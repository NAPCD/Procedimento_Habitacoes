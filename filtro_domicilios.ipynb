{
 "cells": [
  {
   "cell_type": "code",
   "execution_count": 1,
   "id": "49ab3c0e",
   "metadata": {},
   "outputs": [],
   "source": [
    "import pandas as pd\n",
    "import numpy as np\n",
    "import seaborn as sns\n",
    "import matplotlib as mpl\n",
    "import matplotlib.pyplot as plt\n",
    "import unidecode"
   ]
  },
  {
   "cell_type": "code",
   "execution_count": 2,
   "id": "133c5c1b",
   "metadata": {},
   "outputs": [],
   "source": [
    "pd.set_option('display.max_rows', 500)\n",
    "pd.set_option('display.max_columns', 500)\n",
    "pd.set_option('display.width', 1000)"
   ]
  },
  {
   "cell_type": "markdown",
   "id": "0c7621a1",
   "metadata": {},
   "source": [
    "## Criação de DF para filtragem dos selecionados"
   ]
  },
  {
   "cell_type": "code",
   "execution_count": 3,
   "id": "ff52383e",
   "metadata": {},
   "outputs": [],
   "source": [
    "df = pd.read_parquet('CAD_UNIC_MAI_DT_23_04_05_23.parquet')"
   ]
  },
  {
   "cell_type": "code",
   "execution_count": 4,
   "id": "717a54d8",
   "metadata": {},
   "outputs": [],
   "source": [
    "df_renda_pobreza_89 = df[df['d.vlr_renda_media_fam'] <= 89]"
   ]
  },
  {
   "cell_type": "code",
   "execution_count": 6,
   "id": "7cc274e3",
   "metadata": {},
   "outputs": [],
   "source": [
    "df_analise_2 = df_renda_pobreza_89[['d.cod_familiar_fam', 'd.cod_material_piso_fam', 'd.cod_material_domic_fam', 'd.cod_banheiro_domic_fam', 'p.cod_sexo_pessoa', 'p.cod_deficiencia_memb', 'p.cod_raca_cor_pessoa', 'p.fx_idade', 'd.qtd_comodos_domic_fam']]"
   ]
  },
  {
   "cell_type": "code",
   "execution_count": 7,
   "id": "47f3900a",
   "metadata": {},
   "outputs": [],
   "source": [
    "df_analise_final_89 = df_analise_2.groupby('d.cod_familiar_fam')\\\n",
    "    .agg({'d.cod_material_domic_fam': [lambda x: 2 in x.values, lambda x: 1 in x.values], # 2 sem e 1 com\n",
    "         'd.cod_material_piso_fam': [lambda x: 2 in x.values, lambda x: 1 in x.values, lambda x: 5 in x.values],# 2-Cimento|1-Terra|3-ceramica e tals\n",
    "         'd.cod_banheiro_domic_fam': lambda x: 1 in x.values, #1-Sim|2-Não\n",
    "         'p.cod_raca_cor_pessoa': [lambda x: 2 in x.values or 4 in x.values],\n",
    "         'p.cod_sexo_pessoa': lambda x: (2 == x.values).all(),\n",
    "         'p.fx_idade': lambda x: 0 in x.values,\n",
    "         'p.cod_deficiencia_memb': lambda x: 1 in x.values,\n",
    "         'd.qtd_comodos_domic_fam': [lambda x: 1 in x.values or 2 in x.values, \n",
    "                                     lambda x: 3 in x.values or 4 in x.values or 5 in x.values]})\\\n",
    "    .rename(columns = {'d.cod_material_domic_fam': 'Alvenaria'}).reset_index()"
   ]
  },
  {
   "cell_type": "code",
   "execution_count": 8,
   "id": "f123af13",
   "metadata": {},
   "outputs": [
    {
     "data": {
      "text/html": [
       "<div>\n",
       "<style scoped>\n",
       "    .dataframe tbody tr th:only-of-type {\n",
       "        vertical-align: middle;\n",
       "    }\n",
       "\n",
       "    .dataframe tbody tr th {\n",
       "        vertical-align: top;\n",
       "    }\n",
       "\n",
       "    .dataframe thead tr th {\n",
       "        text-align: left;\n",
       "    }\n",
       "</style>\n",
       "<table border=\"1\" class=\"dataframe\">\n",
       "  <thead>\n",
       "    <tr>\n",
       "      <th></th>\n",
       "      <th>d.cod_familiar_fam</th>\n",
       "      <th colspan=\"2\" halign=\"left\">Alvenaria</th>\n",
       "      <th colspan=\"3\" halign=\"left\">d.cod_material_piso_fam</th>\n",
       "      <th>d.cod_banheiro_domic_fam</th>\n",
       "      <th>p.cod_raca_cor_pessoa</th>\n",
       "      <th>p.cod_sexo_pessoa</th>\n",
       "      <th>p.fx_idade</th>\n",
       "      <th>p.cod_deficiencia_memb</th>\n",
       "      <th colspan=\"2\" halign=\"left\">d.qtd_comodos_domic_fam</th>\n",
       "    </tr>\n",
       "    <tr>\n",
       "      <th></th>\n",
       "      <th></th>\n",
       "      <th>&lt;lambda_0&gt;</th>\n",
       "      <th>&lt;lambda_1&gt;</th>\n",
       "      <th>&lt;lambda_0&gt;</th>\n",
       "      <th>&lt;lambda_1&gt;</th>\n",
       "      <th>&lt;lambda_2&gt;</th>\n",
       "      <th>&lt;lambda&gt;</th>\n",
       "      <th>&lt;lambda&gt;</th>\n",
       "      <th>&lt;lambda&gt;</th>\n",
       "      <th>&lt;lambda&gt;</th>\n",
       "      <th>&lt;lambda&gt;</th>\n",
       "      <th>&lt;lambda_0&gt;</th>\n",
       "      <th>&lt;lambda_1&gt;</th>\n",
       "    </tr>\n",
       "  </thead>\n",
       "  <tbody>\n",
       "    <tr>\n",
       "      <th>0</th>\n",
       "      <td>00030988500</td>\n",
       "      <td>False</td>\n",
       "      <td>True</td>\n",
       "      <td>False</td>\n",
       "      <td>False</td>\n",
       "      <td>True</td>\n",
       "      <td>True</td>\n",
       "      <td>True</td>\n",
       "      <td>False</td>\n",
       "      <td>True</td>\n",
       "      <td>False</td>\n",
       "      <td>False</td>\n",
       "      <td>True</td>\n",
       "    </tr>\n",
       "    <tr>\n",
       "      <th>1</th>\n",
       "      <td>00032367570</td>\n",
       "      <td>False</td>\n",
       "      <td>False</td>\n",
       "      <td>True</td>\n",
       "      <td>False</td>\n",
       "      <td>False</td>\n",
       "      <td>True</td>\n",
       "      <td>True</td>\n",
       "      <td>False</td>\n",
       "      <td>True</td>\n",
       "      <td>False</td>\n",
       "      <td>False</td>\n",
       "      <td>True</td>\n",
       "    </tr>\n",
       "    <tr>\n",
       "      <th>2</th>\n",
       "      <td>00068828039</td>\n",
       "      <td>True</td>\n",
       "      <td>False</td>\n",
       "      <td>True</td>\n",
       "      <td>False</td>\n",
       "      <td>False</td>\n",
       "      <td>True</td>\n",
       "      <td>True</td>\n",
       "      <td>False</td>\n",
       "      <td>False</td>\n",
       "      <td>False</td>\n",
       "      <td>False</td>\n",
       "      <td>True</td>\n",
       "    </tr>\n",
       "    <tr>\n",
       "      <th>3</th>\n",
       "      <td>00103947965</td>\n",
       "      <td>False</td>\n",
       "      <td>True</td>\n",
       "      <td>False</td>\n",
       "      <td>False</td>\n",
       "      <td>True</td>\n",
       "      <td>True</td>\n",
       "      <td>True</td>\n",
       "      <td>False</td>\n",
       "      <td>False</td>\n",
       "      <td>False</td>\n",
       "      <td>False</td>\n",
       "      <td>True</td>\n",
       "    </tr>\n",
       "    <tr>\n",
       "      <th>4</th>\n",
       "      <td>00106576577</td>\n",
       "      <td>True</td>\n",
       "      <td>False</td>\n",
       "      <td>False</td>\n",
       "      <td>False</td>\n",
       "      <td>True</td>\n",
       "      <td>True</td>\n",
       "      <td>True</td>\n",
       "      <td>True</td>\n",
       "      <td>False</td>\n",
       "      <td>True</td>\n",
       "      <td>False</td>\n",
       "      <td>True</td>\n",
       "    </tr>\n",
       "    <tr>\n",
       "      <th>...</th>\n",
       "      <td>...</td>\n",
       "      <td>...</td>\n",
       "      <td>...</td>\n",
       "      <td>...</td>\n",
       "      <td>...</td>\n",
       "      <td>...</td>\n",
       "      <td>...</td>\n",
       "      <td>...</td>\n",
       "      <td>...</td>\n",
       "      <td>...</td>\n",
       "      <td>...</td>\n",
       "      <td>...</td>\n",
       "      <td>...</td>\n",
       "    </tr>\n",
       "    <tr>\n",
       "      <th>77393</th>\n",
       "      <td>07850906144</td>\n",
       "      <td>False</td>\n",
       "      <td>True</td>\n",
       "      <td>False</td>\n",
       "      <td>False</td>\n",
       "      <td>True</td>\n",
       "      <td>True</td>\n",
       "      <td>True</td>\n",
       "      <td>True</td>\n",
       "      <td>False</td>\n",
       "      <td>False</td>\n",
       "      <td>False</td>\n",
       "      <td>True</td>\n",
       "    </tr>\n",
       "    <tr>\n",
       "      <th>77394</th>\n",
       "      <td>07851150990</td>\n",
       "      <td>False</td>\n",
       "      <td>True</td>\n",
       "      <td>True</td>\n",
       "      <td>False</td>\n",
       "      <td>False</td>\n",
       "      <td>True</td>\n",
       "      <td>True</td>\n",
       "      <td>False</td>\n",
       "      <td>False</td>\n",
       "      <td>False</td>\n",
       "      <td>True</td>\n",
       "      <td>False</td>\n",
       "    </tr>\n",
       "    <tr>\n",
       "      <th>77395</th>\n",
       "      <td>07851175046</td>\n",
       "      <td>False</td>\n",
       "      <td>True</td>\n",
       "      <td>True</td>\n",
       "      <td>False</td>\n",
       "      <td>False</td>\n",
       "      <td>True</td>\n",
       "      <td>True</td>\n",
       "      <td>True</td>\n",
       "      <td>False</td>\n",
       "      <td>False</td>\n",
       "      <td>False</td>\n",
       "      <td>True</td>\n",
       "    </tr>\n",
       "    <tr>\n",
       "      <th>77396</th>\n",
       "      <td>07851465478</td>\n",
       "      <td>False</td>\n",
       "      <td>False</td>\n",
       "      <td>False</td>\n",
       "      <td>False</td>\n",
       "      <td>False</td>\n",
       "      <td>True</td>\n",
       "      <td>False</td>\n",
       "      <td>False</td>\n",
       "      <td>False</td>\n",
       "      <td>False</td>\n",
       "      <td>True</td>\n",
       "      <td>False</td>\n",
       "    </tr>\n",
       "    <tr>\n",
       "      <th>77397</th>\n",
       "      <td>07851607280</td>\n",
       "      <td>True</td>\n",
       "      <td>False</td>\n",
       "      <td>True</td>\n",
       "      <td>False</td>\n",
       "      <td>False</td>\n",
       "      <td>True</td>\n",
       "      <td>False</td>\n",
       "      <td>False</td>\n",
       "      <td>False</td>\n",
       "      <td>False</td>\n",
       "      <td>True</td>\n",
       "      <td>False</td>\n",
       "    </tr>\n",
       "  </tbody>\n",
       "</table>\n",
       "<p>77398 rows × 13 columns</p>\n",
       "</div>"
      ],
      "text/plain": [
       "      d.cod_familiar_fam  Alvenaria            d.cod_material_piso_fam                       d.cod_banheiro_domic_fam p.cod_raca_cor_pessoa p.cod_sexo_pessoa p.fx_idade p.cod_deficiencia_memb d.qtd_comodos_domic_fam           \n",
       "                         <lambda_0> <lambda_1>              <lambda_0> <lambda_1> <lambda_2>                 <lambda>              <lambda>          <lambda>   <lambda>               <lambda>              <lambda_0> <lambda_1>\n",
       "0            00030988500      False       True                   False      False       True                     True                  True             False       True                  False                   False       True\n",
       "1            00032367570      False      False                    True      False      False                     True                  True             False       True                  False                   False       True\n",
       "2            00068828039       True      False                    True      False      False                     True                  True             False      False                  False                   False       True\n",
       "3            00103947965      False       True                   False      False       True                     True                  True             False      False                  False                   False       True\n",
       "4            00106576577       True      False                   False      False       True                     True                  True              True      False                   True                   False       True\n",
       "...                  ...        ...        ...                     ...        ...        ...                      ...                   ...               ...        ...                    ...                     ...        ...\n",
       "77393        07850906144      False       True                   False      False       True                     True                  True              True      False                  False                   False       True\n",
       "77394        07851150990      False       True                    True      False      False                     True                  True             False      False                  False                    True      False\n",
       "77395        07851175046      False       True                    True      False      False                     True                  True              True      False                  False                   False       True\n",
       "77396        07851465478      False      False                   False      False      False                     True                 False             False      False                  False                    True      False\n",
       "77397        07851607280       True      False                    True      False      False                     True                 False             False      False                  False                    True      False\n",
       "\n",
       "[77398 rows x 13 columns]"
      ]
     },
     "execution_count": 8,
     "metadata": {},
     "output_type": "execute_result"
    }
   ],
   "source": [
    "df_analise_final_89"
   ]
  },
  {
   "cell_type": "code",
   "execution_count": 9,
   "id": "a48204a1",
   "metadata": {},
   "outputs": [],
   "source": [
    "df_analise_final_89.columns = ['_'.join(col) for col in df_analise_final_89.columns]"
   ]
  },
  {
   "cell_type": "code",
   "execution_count": 10,
   "id": "0d8b2fd0",
   "metadata": {},
   "outputs": [],
   "source": [
    "df_analise_final_89.columns=['d.cod_familiar_fam', 'sem_revestimento', 'com_revestimento',\n",
    "                      'piso_cimento', 'piso_terra', 'piso_ceramica_afins', 'banheiro',\n",
    "                      'pretos_ou_pardos', 'familia_de_mulheres' ,'primeira_infancia', 'pcd', 'comodos_0-2',\n",
    "                     'comodos_3-5']"
   ]
  },
  {
   "cell_type": "code",
   "execution_count": 11,
   "id": "1166b156",
   "metadata": {},
   "outputs": [],
   "source": [
    "df_analise_final_89 = df_analise_final_89.replace(True, 1)\n",
    "df_analise_final_89 = df_analise_final_89.replace(False, 0)"
   ]
  },
  {
   "cell_type": "code",
   "execution_count": 12,
   "id": "51064690",
   "metadata": {},
   "outputs": [
    {
     "data": {
      "text/html": [
       "<div>\n",
       "<style scoped>\n",
       "    .dataframe tbody tr th:only-of-type {\n",
       "        vertical-align: middle;\n",
       "    }\n",
       "\n",
       "    .dataframe tbody tr th {\n",
       "        vertical-align: top;\n",
       "    }\n",
       "\n",
       "    .dataframe thead th {\n",
       "        text-align: right;\n",
       "    }\n",
       "</style>\n",
       "<table border=\"1\" class=\"dataframe\">\n",
       "  <thead>\n",
       "    <tr style=\"text-align: right;\">\n",
       "      <th></th>\n",
       "      <th>d.cod_familiar_fam</th>\n",
       "      <th>sem_revestimento</th>\n",
       "      <th>com_revestimento</th>\n",
       "      <th>piso_cimento</th>\n",
       "      <th>piso_terra</th>\n",
       "      <th>piso_ceramica_afins</th>\n",
       "      <th>banheiro</th>\n",
       "      <th>pretos_ou_pardos</th>\n",
       "      <th>familia_de_mulheres</th>\n",
       "      <th>primeira_infancia</th>\n",
       "      <th>pcd</th>\n",
       "      <th>comodos_0-2</th>\n",
       "      <th>comodos_3-5</th>\n",
       "    </tr>\n",
       "  </thead>\n",
       "  <tbody>\n",
       "    <tr>\n",
       "      <th>0</th>\n",
       "      <td>00030988500</td>\n",
       "      <td>0</td>\n",
       "      <td>1</td>\n",
       "      <td>0</td>\n",
       "      <td>0</td>\n",
       "      <td>1</td>\n",
       "      <td>1</td>\n",
       "      <td>1</td>\n",
       "      <td>0</td>\n",
       "      <td>1</td>\n",
       "      <td>0</td>\n",
       "      <td>0</td>\n",
       "      <td>1</td>\n",
       "    </tr>\n",
       "    <tr>\n",
       "      <th>1</th>\n",
       "      <td>00032367570</td>\n",
       "      <td>0</td>\n",
       "      <td>0</td>\n",
       "      <td>1</td>\n",
       "      <td>0</td>\n",
       "      <td>0</td>\n",
       "      <td>1</td>\n",
       "      <td>1</td>\n",
       "      <td>0</td>\n",
       "      <td>1</td>\n",
       "      <td>0</td>\n",
       "      <td>0</td>\n",
       "      <td>1</td>\n",
       "    </tr>\n",
       "    <tr>\n",
       "      <th>2</th>\n",
       "      <td>00068828039</td>\n",
       "      <td>1</td>\n",
       "      <td>0</td>\n",
       "      <td>1</td>\n",
       "      <td>0</td>\n",
       "      <td>0</td>\n",
       "      <td>1</td>\n",
       "      <td>1</td>\n",
       "      <td>0</td>\n",
       "      <td>0</td>\n",
       "      <td>0</td>\n",
       "      <td>0</td>\n",
       "      <td>1</td>\n",
       "    </tr>\n",
       "    <tr>\n",
       "      <th>3</th>\n",
       "      <td>00103947965</td>\n",
       "      <td>0</td>\n",
       "      <td>1</td>\n",
       "      <td>0</td>\n",
       "      <td>0</td>\n",
       "      <td>1</td>\n",
       "      <td>1</td>\n",
       "      <td>1</td>\n",
       "      <td>0</td>\n",
       "      <td>0</td>\n",
       "      <td>0</td>\n",
       "      <td>0</td>\n",
       "      <td>1</td>\n",
       "    </tr>\n",
       "    <tr>\n",
       "      <th>4</th>\n",
       "      <td>00106576577</td>\n",
       "      <td>1</td>\n",
       "      <td>0</td>\n",
       "      <td>0</td>\n",
       "      <td>0</td>\n",
       "      <td>1</td>\n",
       "      <td>1</td>\n",
       "      <td>1</td>\n",
       "      <td>1</td>\n",
       "      <td>0</td>\n",
       "      <td>1</td>\n",
       "      <td>0</td>\n",
       "      <td>1</td>\n",
       "    </tr>\n",
       "    <tr>\n",
       "      <th>...</th>\n",
       "      <td>...</td>\n",
       "      <td>...</td>\n",
       "      <td>...</td>\n",
       "      <td>...</td>\n",
       "      <td>...</td>\n",
       "      <td>...</td>\n",
       "      <td>...</td>\n",
       "      <td>...</td>\n",
       "      <td>...</td>\n",
       "      <td>...</td>\n",
       "      <td>...</td>\n",
       "      <td>...</td>\n",
       "      <td>...</td>\n",
       "    </tr>\n",
       "    <tr>\n",
       "      <th>77393</th>\n",
       "      <td>07850906144</td>\n",
       "      <td>0</td>\n",
       "      <td>1</td>\n",
       "      <td>0</td>\n",
       "      <td>0</td>\n",
       "      <td>1</td>\n",
       "      <td>1</td>\n",
       "      <td>1</td>\n",
       "      <td>1</td>\n",
       "      <td>0</td>\n",
       "      <td>0</td>\n",
       "      <td>0</td>\n",
       "      <td>1</td>\n",
       "    </tr>\n",
       "    <tr>\n",
       "      <th>77394</th>\n",
       "      <td>07851150990</td>\n",
       "      <td>0</td>\n",
       "      <td>1</td>\n",
       "      <td>1</td>\n",
       "      <td>0</td>\n",
       "      <td>0</td>\n",
       "      <td>1</td>\n",
       "      <td>1</td>\n",
       "      <td>0</td>\n",
       "      <td>0</td>\n",
       "      <td>0</td>\n",
       "      <td>1</td>\n",
       "      <td>0</td>\n",
       "    </tr>\n",
       "    <tr>\n",
       "      <th>77395</th>\n",
       "      <td>07851175046</td>\n",
       "      <td>0</td>\n",
       "      <td>1</td>\n",
       "      <td>1</td>\n",
       "      <td>0</td>\n",
       "      <td>0</td>\n",
       "      <td>1</td>\n",
       "      <td>1</td>\n",
       "      <td>1</td>\n",
       "      <td>0</td>\n",
       "      <td>0</td>\n",
       "      <td>0</td>\n",
       "      <td>1</td>\n",
       "    </tr>\n",
       "    <tr>\n",
       "      <th>77396</th>\n",
       "      <td>07851465478</td>\n",
       "      <td>0</td>\n",
       "      <td>0</td>\n",
       "      <td>0</td>\n",
       "      <td>0</td>\n",
       "      <td>0</td>\n",
       "      <td>1</td>\n",
       "      <td>0</td>\n",
       "      <td>0</td>\n",
       "      <td>0</td>\n",
       "      <td>0</td>\n",
       "      <td>1</td>\n",
       "      <td>0</td>\n",
       "    </tr>\n",
       "    <tr>\n",
       "      <th>77397</th>\n",
       "      <td>07851607280</td>\n",
       "      <td>1</td>\n",
       "      <td>0</td>\n",
       "      <td>1</td>\n",
       "      <td>0</td>\n",
       "      <td>0</td>\n",
       "      <td>1</td>\n",
       "      <td>0</td>\n",
       "      <td>0</td>\n",
       "      <td>0</td>\n",
       "      <td>0</td>\n",
       "      <td>1</td>\n",
       "      <td>0</td>\n",
       "    </tr>\n",
       "  </tbody>\n",
       "</table>\n",
       "<p>77398 rows × 13 columns</p>\n",
       "</div>"
      ],
      "text/plain": [
       "      d.cod_familiar_fam  sem_revestimento  com_revestimento  piso_cimento  piso_terra  piso_ceramica_afins  banheiro  pretos_ou_pardos  familia_de_mulheres  primeira_infancia  pcd  comodos_0-2  comodos_3-5\n",
       "0            00030988500                 0                 1             0           0                    1         1                 1                    0                  1    0            0            1\n",
       "1            00032367570                 0                 0             1           0                    0         1                 1                    0                  1    0            0            1\n",
       "2            00068828039                 1                 0             1           0                    0         1                 1                    0                  0    0            0            1\n",
       "3            00103947965                 0                 1             0           0                    1         1                 1                    0                  0    0            0            1\n",
       "4            00106576577                 1                 0             0           0                    1         1                 1                    1                  0    1            0            1\n",
       "...                  ...               ...               ...           ...         ...                  ...       ...               ...                  ...                ...  ...          ...          ...\n",
       "77393        07850906144                 0                 1             0           0                    1         1                 1                    1                  0    0            0            1\n",
       "77394        07851150990                 0                 1             1           0                    0         1                 1                    0                  0    0            1            0\n",
       "77395        07851175046                 0                 1             1           0                    0         1                 1                    1                  0    0            0            1\n",
       "77396        07851465478                 0                 0             0           0                    0         1                 0                    0                  0    0            1            0\n",
       "77397        07851607280                 1                 0             1           0                    0         1                 0                    0                  0    0            1            0\n",
       "\n",
       "[77398 rows x 13 columns]"
      ]
     },
     "execution_count": 12,
     "metadata": {},
     "output_type": "execute_result"
    }
   ],
   "source": [
    "df_analise_final_89"
   ]
  },
  {
   "cell_type": "markdown",
   "id": "58f51e07",
   "metadata": {},
   "source": [
    "## Filtros escolhidos e nova montagem de DF de domicílios selecionados"
   ]
  },
  {
   "cell_type": "markdown",
   "id": "21a835fc",
   "metadata": {},
   "source": [
    "#### Recorte 1"
   ]
  },
  {
   "cell_type": "code",
   "execution_count": 15,
   "id": "bc50749e",
   "metadata": {},
   "outputs": [],
   "source": [
    "df_filtro1 = df_analise_final_89[(df_analise_final_89['banheiro']==0) & (df_analise_final_89['primeira_infancia']==1)]\n",
    "df_filtro2 = df_analise_final_89[(df_analise_final_89['banheiro']==0) & (df_analise_final_89['pcd']==1)]\n",
    "df_filtro3 = df_analise_final_89[(df_analise_final_89['sem_revestimento']==1) & (df_analise_final_89['piso_terra']==1) & (df_analise_final_89['primeira_infancia']==1)]\n",
    "df_filtro4 = df_analise_final_89[(df_analise_final_89['sem_revestimento']==1) & (df_analise_final_89['piso_terra']==1) & (df_analise_final_89['pcd']==1)]\n",
    "df_filtro5 = df_analise_final_89[(df_analise_final_89['sem_revestimento']==1) & (df_analise_final_89['piso_cimento']==1) & (df_analise_final_89['primeira_infancia']==1)]\n",
    "df_filtro6 = df_analise_final_89[(df_analise_final_89['sem_revestimento']==1) & (df_analise_final_89['piso_cimento']==1) & (df_analise_final_89['pcd']==1)]"
   ]
  },
  {
   "cell_type": "code",
   "execution_count": 16,
   "id": "25b6c53a",
   "metadata": {},
   "outputs": [],
   "source": [
    "data=[df_filtro1, df_filtro2, df_filtro3, df_filtro4, df_filtro5, df_filtro6]\n",
    "df_filtro_final = pd.concat(data)"
   ]
  },
  {
   "cell_type": "code",
   "execution_count": 17,
   "id": "8e7de9ac",
   "metadata": {},
   "outputs": [],
   "source": [
    "df_filtro_final = df_filtro_final.drop_duplicates(keep='first')"
   ]
  },
  {
   "cell_type": "code",
   "execution_count": 18,
   "id": "3076ce06",
   "metadata": {},
   "outputs": [
    {
     "data": {
      "text/html": [
       "<div>\n",
       "<style scoped>\n",
       "    .dataframe tbody tr th:only-of-type {\n",
       "        vertical-align: middle;\n",
       "    }\n",
       "\n",
       "    .dataframe tbody tr th {\n",
       "        vertical-align: top;\n",
       "    }\n",
       "\n",
       "    .dataframe thead th {\n",
       "        text-align: right;\n",
       "    }\n",
       "</style>\n",
       "<table border=\"1\" class=\"dataframe\">\n",
       "  <thead>\n",
       "    <tr style=\"text-align: right;\">\n",
       "      <th></th>\n",
       "      <th>d.cod_familiar_fam</th>\n",
       "      <th>sem_revestimento</th>\n",
       "      <th>com_revestimento</th>\n",
       "      <th>piso_cimento</th>\n",
       "      <th>piso_terra</th>\n",
       "      <th>piso_ceramica_afins</th>\n",
       "      <th>banheiro</th>\n",
       "      <th>pretos_ou_pardos</th>\n",
       "      <th>familia_de_mulheres</th>\n",
       "      <th>primeira_infancia</th>\n",
       "      <th>pcd</th>\n",
       "      <th>comodos_0-2</th>\n",
       "      <th>comodos_3-5</th>\n",
       "    </tr>\n",
       "  </thead>\n",
       "  <tbody>\n",
       "    <tr>\n",
       "      <th>334</th>\n",
       "      <td>00549540610</td>\n",
       "      <td>1</td>\n",
       "      <td>0</td>\n",
       "      <td>1</td>\n",
       "      <td>0</td>\n",
       "      <td>0</td>\n",
       "      <td>0</td>\n",
       "      <td>1</td>\n",
       "      <td>0</td>\n",
       "      <td>1</td>\n",
       "      <td>0</td>\n",
       "      <td>1</td>\n",
       "      <td>0</td>\n",
       "    </tr>\n",
       "    <tr>\n",
       "      <th>856</th>\n",
       "      <td>00743168933</td>\n",
       "      <td>0</td>\n",
       "      <td>1</td>\n",
       "      <td>0</td>\n",
       "      <td>0</td>\n",
       "      <td>1</td>\n",
       "      <td>0</td>\n",
       "      <td>1</td>\n",
       "      <td>0</td>\n",
       "      <td>1</td>\n",
       "      <td>0</td>\n",
       "      <td>0</td>\n",
       "      <td>0</td>\n",
       "    </tr>\n",
       "    <tr>\n",
       "      <th>3565</th>\n",
       "      <td>01326803000</td>\n",
       "      <td>0</td>\n",
       "      <td>1</td>\n",
       "      <td>1</td>\n",
       "      <td>0</td>\n",
       "      <td>0</td>\n",
       "      <td>0</td>\n",
       "      <td>1</td>\n",
       "      <td>0</td>\n",
       "      <td>1</td>\n",
       "      <td>0</td>\n",
       "      <td>1</td>\n",
       "      <td>0</td>\n",
       "    </tr>\n",
       "    <tr>\n",
       "      <th>3929</th>\n",
       "      <td>01327198860</td>\n",
       "      <td>0</td>\n",
       "      <td>0</td>\n",
       "      <td>0</td>\n",
       "      <td>0</td>\n",
       "      <td>0</td>\n",
       "      <td>0</td>\n",
       "      <td>1</td>\n",
       "      <td>0</td>\n",
       "      <td>1</td>\n",
       "      <td>0</td>\n",
       "      <td>0</td>\n",
       "      <td>0</td>\n",
       "    </tr>\n",
       "    <tr>\n",
       "      <th>4198</th>\n",
       "      <td>01338172107</td>\n",
       "      <td>1</td>\n",
       "      <td>0</td>\n",
       "      <td>1</td>\n",
       "      <td>0</td>\n",
       "      <td>0</td>\n",
       "      <td>0</td>\n",
       "      <td>1</td>\n",
       "      <td>1</td>\n",
       "      <td>1</td>\n",
       "      <td>0</td>\n",
       "      <td>0</td>\n",
       "      <td>1</td>\n",
       "    </tr>\n",
       "    <tr>\n",
       "      <th>...</th>\n",
       "      <td>...</td>\n",
       "      <td>...</td>\n",
       "      <td>...</td>\n",
       "      <td>...</td>\n",
       "      <td>...</td>\n",
       "      <td>...</td>\n",
       "      <td>...</td>\n",
       "      <td>...</td>\n",
       "      <td>...</td>\n",
       "      <td>...</td>\n",
       "      <td>...</td>\n",
       "      <td>...</td>\n",
       "      <td>...</td>\n",
       "    </tr>\n",
       "    <tr>\n",
       "      <th>77100</th>\n",
       "      <td>07805445796</td>\n",
       "      <td>1</td>\n",
       "      <td>0</td>\n",
       "      <td>1</td>\n",
       "      <td>0</td>\n",
       "      <td>0</td>\n",
       "      <td>1</td>\n",
       "      <td>1</td>\n",
       "      <td>1</td>\n",
       "      <td>0</td>\n",
       "      <td>1</td>\n",
       "      <td>1</td>\n",
       "      <td>0</td>\n",
       "    </tr>\n",
       "    <tr>\n",
       "      <th>77279</th>\n",
       "      <td>07835226065</td>\n",
       "      <td>1</td>\n",
       "      <td>0</td>\n",
       "      <td>1</td>\n",
       "      <td>0</td>\n",
       "      <td>0</td>\n",
       "      <td>1</td>\n",
       "      <td>1</td>\n",
       "      <td>0</td>\n",
       "      <td>0</td>\n",
       "      <td>1</td>\n",
       "      <td>1</td>\n",
       "      <td>0</td>\n",
       "    </tr>\n",
       "    <tr>\n",
       "      <th>77288</th>\n",
       "      <td>07836795136</td>\n",
       "      <td>1</td>\n",
       "      <td>0</td>\n",
       "      <td>1</td>\n",
       "      <td>0</td>\n",
       "      <td>0</td>\n",
       "      <td>1</td>\n",
       "      <td>0</td>\n",
       "      <td>0</td>\n",
       "      <td>0</td>\n",
       "      <td>1</td>\n",
       "      <td>1</td>\n",
       "      <td>0</td>\n",
       "    </tr>\n",
       "    <tr>\n",
       "      <th>77318</th>\n",
       "      <td>07841832605</td>\n",
       "      <td>1</td>\n",
       "      <td>0</td>\n",
       "      <td>1</td>\n",
       "      <td>0</td>\n",
       "      <td>0</td>\n",
       "      <td>1</td>\n",
       "      <td>1</td>\n",
       "      <td>0</td>\n",
       "      <td>0</td>\n",
       "      <td>1</td>\n",
       "      <td>1</td>\n",
       "      <td>0</td>\n",
       "    </tr>\n",
       "    <tr>\n",
       "      <th>77370</th>\n",
       "      <td>07848400913</td>\n",
       "      <td>1</td>\n",
       "      <td>0</td>\n",
       "      <td>1</td>\n",
       "      <td>0</td>\n",
       "      <td>0</td>\n",
       "      <td>1</td>\n",
       "      <td>1</td>\n",
       "      <td>0</td>\n",
       "      <td>0</td>\n",
       "      <td>1</td>\n",
       "      <td>0</td>\n",
       "      <td>1</td>\n",
       "    </tr>\n",
       "  </tbody>\n",
       "</table>\n",
       "<p>5562 rows × 13 columns</p>\n",
       "</div>"
      ],
      "text/plain": [
       "      d.cod_familiar_fam  sem_revestimento  com_revestimento  piso_cimento  piso_terra  piso_ceramica_afins  banheiro  pretos_ou_pardos  familia_de_mulheres  primeira_infancia  pcd  comodos_0-2  comodos_3-5\n",
       "334          00549540610                 1                 0             1           0                    0         0                 1                    0                  1    0            1            0\n",
       "856          00743168933                 0                 1             0           0                    1         0                 1                    0                  1    0            0            0\n",
       "3565         01326803000                 0                 1             1           0                    0         0                 1                    0                  1    0            1            0\n",
       "3929         01327198860                 0                 0             0           0                    0         0                 1                    0                  1    0            0            0\n",
       "4198         01338172107                 1                 0             1           0                    0         0                 1                    1                  1    0            0            1\n",
       "...                  ...               ...               ...           ...         ...                  ...       ...               ...                  ...                ...  ...          ...          ...\n",
       "77100        07805445796                 1                 0             1           0                    0         1                 1                    1                  0    1            1            0\n",
       "77279        07835226065                 1                 0             1           0                    0         1                 1                    0                  0    1            1            0\n",
       "77288        07836795136                 1                 0             1           0                    0         1                 0                    0                  0    1            1            0\n",
       "77318        07841832605                 1                 0             1           0                    0         1                 1                    0                  0    1            1            0\n",
       "77370        07848400913                 1                 0             1           0                    0         1                 1                    0                  0    1            0            1\n",
       "\n",
       "[5562 rows x 13 columns]"
      ]
     },
     "execution_count": 18,
     "metadata": {},
     "output_type": "execute_result"
    }
   ],
   "source": [
    "df_filtro_final"
   ]
  },
  {
   "cell_type": "code",
   "execution_count": 19,
   "id": "1c509cbf",
   "metadata": {},
   "outputs": [],
   "source": [
    "df_filtro_1 = df_analise_final_89[(df_analise_final_89['banheiro']==0) & (df_analise_final_89['pcd']==1) & (df_analise_final_89['familia_de_mulheres']==1)]\n",
    "df_filtro_2 = df_analise_final_89[(df_analise_final_89['banheiro']==0) & (df_analise_final_89['pcd']==1) & (df_analise_final_89['pretos_ou_pardos']==1)].sample(176)\n",
    "df_filtro3 = df_analise_final_89[(df_analise_final_89['banheiro']==0) & (df_analise_final_89['pcd']==1) & (df_analise_final_89['primeira_infancia']==1)]\n",
    "df_filtro_4 = df_analise_final_89[(df_analise_final_89['banheiro']==0) & (df_analise_final_89['pcd']==1)].sample(35)"
   ]
  },
  {
   "cell_type": "code",
   "execution_count": 20,
   "id": "33e1d08a",
   "metadata": {},
   "outputs": [],
   "source": [
    "data=[df_filtro_1, df_filtro_2, df_filtro3, df_filtro_4]\n",
    "df_filtro1e2 = pd.concat(data)"
   ]
  },
  {
   "cell_type": "code",
   "execution_count": 21,
   "id": "4c6c51f5",
   "metadata": {},
   "outputs": [],
   "source": [
    "df_filtro1e2['TP-04'] = 0\n",
    "df_filtro1e2['TP-05'] = 0\n",
    "df_filtro1e2['TP-06'] = 1\n",
    "df_filtro1e2['TP-07'] = 0\n",
    "df_filtro1e2['TC-09'] = 1\n",
    "df_filtro1e2['TC-10'] = 0\n",
    "df_filtro1e2['TC-12'] = 0"
   ]
  },
  {
   "cell_type": "code",
   "execution_count": 22,
   "id": "843ea035",
   "metadata": {},
   "outputs": [],
   "source": [
    "df_filtro_parte_1 = df_filtro1e2.drop_duplicates(keep='first')"
   ]
  },
  {
   "cell_type": "code",
   "execution_count": 23,
   "id": "51951d7a",
   "metadata": {},
   "outputs": [],
   "source": [
    "filtro_piso_cimento_89 = df_analise_final_89[(df_analise_final_89['piso_cimento']==1)]\n",
    "filtro_piso_terra_89 = df_analise_final_89[(df_analise_final_89['piso_terra']==1)]"
   ]
  },
  {
   "cell_type": "code",
   "execution_count": 24,
   "id": "bc0255c9",
   "metadata": {},
   "outputs": [],
   "source": [
    "filtro_negros = filtro_piso_cimento_89[(filtro_piso_cimento_89['pretos_ou_pardos']==1)].sample(10000)"
   ]
  },
  {
   "cell_type": "code",
   "execution_count": 25,
   "id": "d61eee4b",
   "metadata": {},
   "outputs": [],
   "source": [
    "filtro_negros_e_mulheres = filtro_piso_cimento_89[(filtro_piso_cimento_89['pretos_ou_pardos']==1) & (filtro_piso_cimento_89['familia_de_mulheres']==1)]"
   ]
  },
  {
   "cell_type": "code",
   "execution_count": 26,
   "id": "add005db",
   "metadata": {},
   "outputs": [],
   "source": [
    "filtro_mulheres = filtro_piso_cimento_89[(filtro_piso_cimento_89['familia_de_mulheres']==1)]"
   ]
  },
  {
   "cell_type": "code",
   "execution_count": 27,
   "id": "5e266ec4",
   "metadata": {},
   "outputs": [],
   "source": [
    "data=[filtro_negros_e_mulheres, filtro_piso_terra_89, filtro_mulheres, filtro_negros]\n",
    "filtro_piso = pd.concat(data)"
   ]
  },
  {
   "cell_type": "code",
   "execution_count": 28,
   "id": "c2dd93e5",
   "metadata": {},
   "outputs": [],
   "source": [
    "df_filtro_parte_2 = filtro_piso.drop_duplicates(keep='first')"
   ]
  },
  {
   "cell_type": "code",
   "execution_count": 29,
   "id": "b194011b",
   "metadata": {},
   "outputs": [
    {
     "name": "stderr",
     "output_type": "stream",
     "text": [
      "C:\\Users\\alexandre.goncalves\\AppData\\Local\\Temp\\ipykernel_3624\\8323674.py:1: SettingWithCopyWarning: \n",
      "A value is trying to be set on a copy of a slice from a DataFrame.\n",
      "Try using .loc[row_indexer,col_indexer] = value instead\n",
      "\n",
      "See the caveats in the documentation: https://pandas.pydata.org/pandas-docs/stable/user_guide/indexing.html#returning-a-view-versus-a-copy\n",
      "  df_filtro_parte_2['TP-04'] = 0\n",
      "C:\\Users\\alexandre.goncalves\\AppData\\Local\\Temp\\ipykernel_3624\\8323674.py:2: SettingWithCopyWarning: \n",
      "A value is trying to be set on a copy of a slice from a DataFrame.\n",
      "Try using .loc[row_indexer,col_indexer] = value instead\n",
      "\n",
      "See the caveats in the documentation: https://pandas.pydata.org/pandas-docs/stable/user_guide/indexing.html#returning-a-view-versus-a-copy\n",
      "  df_filtro_parte_2['TP-05'] = 0\n",
      "C:\\Users\\alexandre.goncalves\\AppData\\Local\\Temp\\ipykernel_3624\\8323674.py:3: SettingWithCopyWarning: \n",
      "A value is trying to be set on a copy of a slice from a DataFrame.\n",
      "Try using .loc[row_indexer,col_indexer] = value instead\n",
      "\n",
      "See the caveats in the documentation: https://pandas.pydata.org/pandas-docs/stable/user_guide/indexing.html#returning-a-view-versus-a-copy\n",
      "  df_filtro_parte_2['TP-06'] = 1\n",
      "C:\\Users\\alexandre.goncalves\\AppData\\Local\\Temp\\ipykernel_3624\\8323674.py:4: SettingWithCopyWarning: \n",
      "A value is trying to be set on a copy of a slice from a DataFrame.\n",
      "Try using .loc[row_indexer,col_indexer] = value instead\n",
      "\n",
      "See the caveats in the documentation: https://pandas.pydata.org/pandas-docs/stable/user_guide/indexing.html#returning-a-view-versus-a-copy\n",
      "  df_filtro_parte_2['TP-07'] = 0\n",
      "C:\\Users\\alexandre.goncalves\\AppData\\Local\\Temp\\ipykernel_3624\\8323674.py:5: SettingWithCopyWarning: \n",
      "A value is trying to be set on a copy of a slice from a DataFrame.\n",
      "Try using .loc[row_indexer,col_indexer] = value instead\n",
      "\n",
      "See the caveats in the documentation: https://pandas.pydata.org/pandas-docs/stable/user_guide/indexing.html#returning-a-view-versus-a-copy\n",
      "  df_filtro_parte_2['TC-09'] = 0\n",
      "C:\\Users\\alexandre.goncalves\\AppData\\Local\\Temp\\ipykernel_3624\\8323674.py:6: SettingWithCopyWarning: \n",
      "A value is trying to be set on a copy of a slice from a DataFrame.\n",
      "Try using .loc[row_indexer,col_indexer] = value instead\n",
      "\n",
      "See the caveats in the documentation: https://pandas.pydata.org/pandas-docs/stable/user_guide/indexing.html#returning-a-view-versus-a-copy\n",
      "  df_filtro_parte_2['TC-10'] = 0\n",
      "C:\\Users\\alexandre.goncalves\\AppData\\Local\\Temp\\ipykernel_3624\\8323674.py:7: SettingWithCopyWarning: \n",
      "A value is trying to be set on a copy of a slice from a DataFrame.\n",
      "Try using .loc[row_indexer,col_indexer] = value instead\n",
      "\n",
      "See the caveats in the documentation: https://pandas.pydata.org/pandas-docs/stable/user_guide/indexing.html#returning-a-view-versus-a-copy\n",
      "  df_filtro_parte_2['TC-12'] = 0\n"
     ]
    }
   ],
   "source": [
    "df_filtro_parte_2['TP-04'] = 0\n",
    "df_filtro_parte_2['TP-05'] = 0\n",
    "df_filtro_parte_2['TP-06'] = 1\n",
    "df_filtro_parte_2['TP-07'] = 0\n",
    "df_filtro_parte_2['TC-09'] = 0\n",
    "df_filtro_parte_2['TC-10'] = 0\n",
    "df_filtro_parte_2['TC-12'] = 0"
   ]
  },
  {
   "cell_type": "code",
   "execution_count": 30,
   "id": "15785c38",
   "metadata": {},
   "outputs": [],
   "source": [
    "data=[df_filtro_parte_1, df_filtro_parte_2]\n",
    "filtro_parte_final = pd.concat(data)"
   ]
  },
  {
   "cell_type": "code",
   "execution_count": 31,
   "id": "273d15f7",
   "metadata": {},
   "outputs": [],
   "source": [
    "df_filtro_parte_3 = filtro_parte_final.drop_duplicates(keep='first')"
   ]
  },
  {
   "cell_type": "code",
   "execution_count": 32,
   "id": "070b1e15",
   "metadata": {},
   "outputs": [],
   "source": [
    "df_sample_1 = df_filtro_parte_3[(df_filtro_parte_3['TP-06']==1)].sample(2565, random_state=1)"
   ]
  },
  {
   "cell_type": "code",
   "execution_count": 33,
   "id": "0c82b593",
   "metadata": {},
   "outputs": [],
   "source": [
    "df_sample_1['TC-12'] = 1"
   ]
  },
  {
   "cell_type": "code",
   "execution_count": 34,
   "id": "980153a7",
   "metadata": {},
   "outputs": [],
   "source": [
    "data=[df_filtro_parte_3, df_sample_1]\n",
    "filtro_parte_3 = pd.concat(data)"
   ]
  },
  {
   "cell_type": "code",
   "execution_count": 35,
   "id": "472650b5",
   "metadata": {},
   "outputs": [],
   "source": [
    "df_filtro_parte_3 = filtro_parte_3.drop_duplicates(subset=['d.cod_familiar_fam'], keep='last')"
   ]
  },
  {
   "cell_type": "code",
   "execution_count": 36,
   "id": "d197831e",
   "metadata": {},
   "outputs": [],
   "source": [
    "df_sample_2 = df_filtro_parte_3[(df_filtro_parte_3['TC-12']==1)].sample(376, random_state=2)"
   ]
  },
  {
   "cell_type": "code",
   "execution_count": 37,
   "id": "0cab9a34",
   "metadata": {},
   "outputs": [],
   "source": [
    "df_sample_2['TP-04'] = 1\n",
    "data=[df_filtro_parte_3, df_sample_2]\n",
    "filtro_parte_3 = pd.concat(data)"
   ]
  },
  {
   "cell_type": "code",
   "execution_count": 38,
   "id": "2780ed3b",
   "metadata": {},
   "outputs": [],
   "source": [
    "df_filtro_parte_3 = filtro_parte_3.drop_duplicates(subset=['d.cod_familiar_fam'], keep='last')"
   ]
  },
  {
   "cell_type": "code",
   "execution_count": 40,
   "id": "b7232de8",
   "metadata": {},
   "outputs": [],
   "source": [
    "df_filtro_parte_3_copia = df_filtro_parte_3.copy()"
   ]
  },
  {
   "cell_type": "code",
   "execution_count": 41,
   "id": "5fec9f99",
   "metadata": {},
   "outputs": [],
   "source": [
    "df_filtro_parte_3_copia['sem_banheiro'] = df_filtro_parte_3_copia['banheiro']"
   ]
  },
  {
   "cell_type": "code",
   "execution_count": 42,
   "id": "a1e06421",
   "metadata": {},
   "outputs": [],
   "source": [
    "dict0e1={\n",
    "    0: 1,\n",
    "    1: 0\n",
    "}\n",
    "\n",
    "df_filtro_parte_3_copia['sem_banheiro'] = df_filtro_parte_3_copia['sem_banheiro'].map(dict0e1)"
   ]
  },
  {
   "cell_type": "markdown",
   "id": "3e1d2021",
   "metadata": {},
   "source": [
    "#### Recorte 2"
   ]
  },
  {
   "cell_type": "code",
   "execution_count": 43,
   "id": "4da03854",
   "metadata": {},
   "outputs": [],
   "source": [
    "filtro_banheiro_pcd_89 = df_analise_final_89[(df_analise_final_89['banheiro']==1) & (df_analise_final_89['pcd']==1)]\n",
    "filtro_banheiro_mulheres_89 = df_analise_final_89[(df_analise_final_89['banheiro']==1) & (df_analise_final_89['familia_de_mulheres']==1)].sample(17000)\n",
    "filtro_filtro = df_analise_final_89[(df_analise_final_89['banheiro']==1) & (df_analise_final_89['primeira_infancia']==1)].sample(5554)"
   ]
  },
  {
   "cell_type": "code",
   "execution_count": 44,
   "id": "ba856b98",
   "metadata": {},
   "outputs": [],
   "source": [
    "data=[filtro_banheiro_pcd_89, filtro_banheiro_mulheres_89, filtro_filtro]\n",
    "df_filtro_filtro = pd.concat(data)"
   ]
  },
  {
   "cell_type": "code",
   "execution_count": 46,
   "id": "ca65f9fe",
   "metadata": {},
   "outputs": [],
   "source": [
    "data=[filtro_banheiro_pcd_89, filtro_banheiro_mulheres_89, df_filtro_filtro]\n",
    "df_filtro_parte_4 = pd.concat(data)"
   ]
  },
  {
   "cell_type": "code",
   "execution_count": 47,
   "id": "bafd616e",
   "metadata": {},
   "outputs": [],
   "source": [
    "df_filtro_parte_4 = df_filtro_parte_4.drop_duplicates(keep='first')"
   ]
  },
  {
   "cell_type": "code",
   "execution_count": 48,
   "id": "51d2400d",
   "metadata": {},
   "outputs": [],
   "source": [
    "df_filtro_parte_4['TP-04'] = 0\n",
    "df_filtro_parte_4['TP-05'] = 0\n",
    "df_filtro_parte_4['TP-06'] = 0\n",
    "df_filtro_parte_4['TP-07'] = 0\n",
    "df_filtro_parte_4['TC-09'] = 0\n",
    "df_filtro_parte_4['TC-10'] = 1\n",
    "df_filtro_parte_4['TC-12'] = 0"
   ]
  },
  {
   "cell_type": "code",
   "execution_count": 49,
   "id": "bb01e1fa",
   "metadata": {},
   "outputs": [],
   "source": [
    "df_sample_3 = df_filtro_parte_4.copy()"
   ]
  },
  {
   "cell_type": "code",
   "execution_count": 50,
   "id": "c2686e5e",
   "metadata": {},
   "outputs": [],
   "source": [
    "data=[df_filtro_parte_3, df_sample_3]\n",
    "df_filtro_parte_3_e_4 = pd.concat(data)"
   ]
  },
  {
   "cell_type": "code",
   "execution_count": 51,
   "id": "cebec2fd",
   "metadata": {},
   "outputs": [],
   "source": [
    "df_filtro_parte_5 = df_filtro_parte_3_e_4.drop_duplicates(subset=['d.cod_familiar_fam'], keep='first')"
   ]
  },
  {
   "cell_type": "code",
   "execution_count": 52,
   "id": "3112a59f",
   "metadata": {},
   "outputs": [],
   "source": [
    "df_sample_4 = df_filtro_parte_5[(df_filtro_parte_5['TC-10'] == 1) & (df_filtro_parte_5['sem_revestimento'] == 1)]"
   ]
  },
  {
   "cell_type": "code",
   "execution_count": 53,
   "id": "4c11446c",
   "metadata": {},
   "outputs": [
    {
     "name": "stderr",
     "output_type": "stream",
     "text": [
      "C:\\Users\\alexandre.goncalves\\AppData\\Local\\Temp\\ipykernel_3624\\1898523591.py:1: SettingWithCopyWarning: \n",
      "A value is trying to be set on a copy of a slice from a DataFrame.\n",
      "Try using .loc[row_indexer,col_indexer] = value instead\n",
      "\n",
      "See the caveats in the documentation: https://pandas.pydata.org/pandas-docs/stable/user_guide/indexing.html#returning-a-view-versus-a-copy\n",
      "  df_sample_4['TP-07'] = 1\n"
     ]
    }
   ],
   "source": [
    "df_sample_4['TP-07'] = 1"
   ]
  },
  {
   "cell_type": "code",
   "execution_count": 54,
   "id": "f2c7da88",
   "metadata": {},
   "outputs": [],
   "source": [
    "data=[df_filtro_parte_5, df_sample_4]\n",
    "filtro_parte_5 = pd.concat(data)"
   ]
  },
  {
   "cell_type": "code",
   "execution_count": 55,
   "id": "b91d7f0d",
   "metadata": {},
   "outputs": [],
   "source": [
    "df_filtro_parte_5 = filtro_parte_5.drop_duplicates(subset=['d.cod_familiar_fam'], keep='last')"
   ]
  },
  {
   "cell_type": "code",
   "execution_count": 56,
   "id": "5a8e3eeb",
   "metadata": {},
   "outputs": [],
   "source": [
    "df_sample_5 = df_filtro_parte_5[df_filtro_parte_5['TP-07']==1]"
   ]
  },
  {
   "cell_type": "code",
   "execution_count": 57,
   "id": "a8933442",
   "metadata": {},
   "outputs": [
    {
     "name": "stderr",
     "output_type": "stream",
     "text": [
      "C:\\Users\\alexandre.goncalves\\AppData\\Local\\Temp\\ipykernel_3624\\1681526806.py:1: SettingWithCopyWarning: \n",
      "A value is trying to be set on a copy of a slice from a DataFrame.\n",
      "Try using .loc[row_indexer,col_indexer] = value instead\n",
      "\n",
      "See the caveats in the documentation: https://pandas.pydata.org/pandas-docs/stable/user_guide/indexing.html#returning-a-view-versus-a-copy\n",
      "  df_sample_5['TP-04'] = 1\n",
      "C:\\Users\\alexandre.goncalves\\AppData\\Local\\Temp\\ipykernel_3624\\1681526806.py:2: SettingWithCopyWarning: \n",
      "A value is trying to be set on a copy of a slice from a DataFrame.\n",
      "Try using .loc[row_indexer,col_indexer] = value instead\n",
      "\n",
      "See the caveats in the documentation: https://pandas.pydata.org/pandas-docs/stable/user_guide/indexing.html#returning-a-view-versus-a-copy\n",
      "  df_sample_5['TP-05'] = 1\n"
     ]
    }
   ],
   "source": [
    "df_sample_5['TP-04'] = 1\n",
    "df_sample_5['TP-05'] = 1"
   ]
  },
  {
   "cell_type": "code",
   "execution_count": 58,
   "id": "8197f829",
   "metadata": {},
   "outputs": [],
   "source": [
    "data=[df_filtro_parte_5, df_sample_5]\n",
    "filtro_parte_6 = pd.concat(data)"
   ]
  },
  {
   "cell_type": "code",
   "execution_count": 59,
   "id": "e82073c9",
   "metadata": {},
   "outputs": [],
   "source": [
    "df_filtro_parte_5 = filtro_parte_6.drop_duplicates(subset=['d.cod_familiar_fam'], keep='last')"
   ]
  },
  {
   "cell_type": "code",
   "execution_count": 60,
   "id": "8e7778df",
   "metadata": {},
   "outputs": [],
   "source": [
    "df_sample_6 = df_filtro_parte_5[(df_filtro_parte_5['TP-06']==1) & (df_filtro_parte_5['TC-09']==0) & (df_filtro_parte_5['TP-07']==0)].sample(6696, random_state=4)"
   ]
  },
  {
   "cell_type": "code",
   "execution_count": 61,
   "id": "c879e63f",
   "metadata": {},
   "outputs": [],
   "source": [
    "df_sample_6['TP-07'] = 1"
   ]
  },
  {
   "cell_type": "code",
   "execution_count": 62,
   "id": "26395c98",
   "metadata": {},
   "outputs": [],
   "source": [
    "data=[df_filtro_parte_5, df_sample_6]\n",
    "filtro_parte_7 = pd.concat(data)"
   ]
  },
  {
   "cell_type": "code",
   "execution_count": 63,
   "id": "bd303f71",
   "metadata": {},
   "outputs": [],
   "source": [
    "df_filtro_parte_6 = filtro_parte_7.drop_duplicates(subset=['d.cod_familiar_fam'], keep='last')"
   ]
  },
  {
   "cell_type": "code",
   "execution_count": 64,
   "id": "e6bde48b",
   "metadata": {},
   "outputs": [],
   "source": [
    "df_sample_7 = df_sample_6.sample(780, random_state=5)"
   ]
  },
  {
   "cell_type": "code",
   "execution_count": 65,
   "id": "0b367cee",
   "metadata": {},
   "outputs": [],
   "source": [
    "df_sample_7['TP-04'] = 1\n",
    "df_sample_7['TP-05'] = 1"
   ]
  },
  {
   "cell_type": "code",
   "execution_count": 66,
   "id": "21025c07",
   "metadata": {},
   "outputs": [],
   "source": [
    "data=[df_filtro_parte_5, df_sample_7]\n",
    "filtro_parte_8 = pd.concat(data)"
   ]
  },
  {
   "cell_type": "code",
   "execution_count": 67,
   "id": "6cb3b8b8",
   "metadata": {},
   "outputs": [],
   "source": [
    "df_filtro_parte_7 = filtro_parte_8.drop_duplicates(subset=['d.cod_familiar_fam'], keep='last')"
   ]
  },
  {
   "cell_type": "code",
   "execution_count": 68,
   "id": "9913d0f6",
   "metadata": {},
   "outputs": [
    {
     "name": "stderr",
     "output_type": "stream",
     "text": [
      "C:\\Users\\alexandre.goncalves\\AppData\\Local\\Temp\\ipykernel_3624\\4176658757.py:1: SettingWithCopyWarning: \n",
      "A value is trying to be set on a copy of a slice from a DataFrame.\n",
      "Try using .loc[row_indexer,col_indexer] = value instead\n",
      "\n",
      "See the caveats in the documentation: https://pandas.pydata.org/pandas-docs/stable/user_guide/indexing.html#returning-a-view-versus-a-copy\n",
      "  df_filtro_parte_7['sem_banheiro'] = df_filtro_parte_7['banheiro']\n"
     ]
    }
   ],
   "source": [
    "df_filtro_parte_7['sem_banheiro'] = df_filtro_parte_7['banheiro']"
   ]
  },
  {
   "cell_type": "code",
   "execution_count": 69,
   "id": "ca333b10",
   "metadata": {},
   "outputs": [
    {
     "name": "stderr",
     "output_type": "stream",
     "text": [
      "C:\\Users\\alexandre.goncalves\\AppData\\Local\\Temp\\ipykernel_3624\\1651994130.py:6: SettingWithCopyWarning: \n",
      "A value is trying to be set on a copy of a slice from a DataFrame.\n",
      "Try using .loc[row_indexer,col_indexer] = value instead\n",
      "\n",
      "See the caveats in the documentation: https://pandas.pydata.org/pandas-docs/stable/user_guide/indexing.html#returning-a-view-versus-a-copy\n",
      "  df_filtro_parte_7['sem_banheiro'] = df_filtro_parte_7['sem_banheiro'].map(dict0e1)\n"
     ]
    }
   ],
   "source": [
    "dict0e1={\n",
    "    0: 1,\n",
    "    1: 0\n",
    "}\n",
    "\n",
    "df_filtro_parte_7['sem_banheiro'] = df_filtro_parte_7['sem_banheiro'].map(dict0e1)"
   ]
  },
  {
   "cell_type": "code",
   "execution_count": 70,
   "id": "4f072b53",
   "metadata": {},
   "outputs": [],
   "source": [
    "df_filtro_parte_7 = df_filtro_parte_7[['d.cod_familiar_fam',\n",
    " 'sem_revestimento',\n",
    " 'com_revestimento',\n",
    " 'piso_cimento',\n",
    " 'piso_terra',\n",
    " 'piso_ceramica_afins',\n",
    " 'banheiro',\n",
    " 'sem_banheiro',\n",
    " 'pretos_ou_pardos',\n",
    " 'familia_de_mulheres',\n",
    " 'primeira_infancia',\n",
    " 'pcd',\n",
    " 'comodos_0-2',\n",
    " 'comodos_3-5',\n",
    " 'TP-04',\n",
    " 'TP-05',\n",
    " 'TP-06',\n",
    " 'TP-07',\n",
    " 'TC-09',\n",
    " 'TC-10',\n",
    " 'TC-12']]"
   ]
  },
  {
   "cell_type": "code",
   "execution_count": 72,
   "id": "8551b225",
   "metadata": {},
   "outputs": [],
   "source": [
    "df_pessoas_selecionadas = df_filtro_parte_7[~df_filtro_parte_7.index.isin(df_filtro_parte_3_copia.index)]"
   ]
  },
  {
   "cell_type": "code",
   "execution_count": null,
   "id": "c167f03f",
   "metadata": {},
   "outputs": [],
   "source": []
  }
 ],
 "metadata": {
  "kernelspec": {
   "display_name": "Python 3 (ipykernel)",
   "language": "python",
   "name": "python3"
  },
  "language_info": {
   "codemirror_mode": {
    "name": "ipython",
    "version": 3
   },
   "file_extension": ".py",
   "mimetype": "text/x-python",
   "name": "python",
   "nbconvert_exporter": "python",
   "pygments_lexer": "ipython3",
   "version": "3.10.11"
  }
 },
 "nbformat": 4,
 "nbformat_minor": 5
}
