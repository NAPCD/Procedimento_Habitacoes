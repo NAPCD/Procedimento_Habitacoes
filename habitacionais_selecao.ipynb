{
 "cells": [
  {
   "attachments": {},
   "cell_type": "markdown",
   "id": "15ed7fce",
   "metadata": {},
   "source": [
    "### Bibliotecas usadas para tratamento"
   ]
  },
  {
   "cell_type": "code",
   "execution_count": 1,
   "id": "ae7c69fb",
   "metadata": {},
   "outputs": [],
   "source": [
    "import pandas as pd\n",
    "import numpy as np\n",
    "import unidecode"
   ]
  },
  {
   "attachments": {},
   "cell_type": "markdown",
   "id": "f633ab07",
   "metadata": {},
   "source": [
    "##### Mudando configurações de visualização de tabela"
   ]
  },
  {
   "cell_type": "code",
   "execution_count": 2,
   "id": "669c7630",
   "metadata": {},
   "outputs": [],
   "source": [
    "pd.set_option('display.max_rows', 500)\n",
    "pd.set_option('display.max_columns', 500)\n",
    "pd.set_option('display.width', 1000)"
   ]
  },
  {
   "attachments": {},
   "cell_type": "markdown",
   "id": "34240074",
   "metadata": {},
   "source": [
    "### Leitura do arquivo"
   ]
  },
  {
   "cell_type": "code",
   "execution_count": 3,
   "id": "d9ed3df2",
   "metadata": {},
   "outputs": [],
   "source": [
    "df = pd.read_parquet('CAD_UNIC_FEV_DT_23_03_05_23.parquet')"
   ]
  },
  {
   "attachments": {},
   "cell_type": "markdown",
   "id": "33c9cd1d",
   "metadata": {},
   "source": [
    "### Filtrando por renda per capita até R$ 89,00"
   ]
  },
  {
   "cell_type": "code",
   "execution_count": 4,
   "id": "e9b56899",
   "metadata": {},
   "outputs": [],
   "source": [
    "df_renda_pobreza_menor_89 = df[(df['d.vlr_renda_media_fam'] <= 89)]"
   ]
  },
  {
   "attachments": {},
   "cell_type": "markdown",
   "id": "3a804509",
   "metadata": {},
   "source": [
    "### Filtrando por renda per capita acima de R$ 89,00 e abaixo de R$ 218,00"
   ]
  },
  {
   "cell_type": "code",
   "execution_count": 5,
   "id": "56998dff",
   "metadata": {},
   "outputs": [],
   "source": [
    "df_renda_pobreza_maior_89 = df[(df['d.vlr_renda_media_fam'] > 89)]"
   ]
  },
  {
   "attachments": {},
   "cell_type": "markdown",
   "id": "931917da",
   "metadata": {},
   "source": [
    "##### Selecionando colunas a ser utilizadas"
   ]
  },
  {
   "cell_type": "code",
   "execution_count": 6,
   "id": "f4bee404",
   "metadata": {},
   "outputs": [],
   "source": [
    "df_analise_1 = df_renda_pobreza_menor_89[['d.cod_familiar_fam', 'd.cod_material_piso_fam', 'd.cod_material_domic_fam',\n",
    "                                          'd.cod_banheiro_domic_fam', 'p.cod_sexo_pessoa', 'p.cod_deficiencia_memb', \n",
    "                                          'p.cod_raca_cor_pessoa', 'p.fx_idade', 'd.qtd_comodos_domic_fam', \n",
    "                                          'd.num_cep_logradouro_fam', 'd.qtd_comodos_dormitorio_fam']]\n",
    "\n",
    "df_analise_2 = df_renda_pobreza_maior_89[['d.cod_familiar_fam', 'd.cod_material_piso_fam', 'd.cod_material_domic_fam',\n",
    "                                          'd.cod_banheiro_domic_fam', 'p.cod_sexo_pessoa', 'p.cod_deficiencia_memb', \n",
    "                                          'p.cod_raca_cor_pessoa', 'p.fx_idade', 'd.qtd_comodos_domic_fam', \n",
    "                                          'd.num_cep_logradouro_fam', 'd.qtd_comodos_dormitorio_fam']]"
   ]
  },
  {
   "attachments": {},
   "cell_type": "markdown",
   "id": "5c866752",
   "metadata": {},
   "source": [
    "### Criando novo DataFrame que trás as informações necessárias em True ou False e o código familiar dos domicílios que com renda per capita até R$89,00"
   ]
  },
  {
   "cell_type": "code",
   "execution_count": 7,
   "id": "6b6db4f9",
   "metadata": {},
   "outputs": [],
   "source": [
    "df_analise_final_menor_89 = df_analise_1.groupby('d.cod_familiar_fam')\\\n",
    "    .agg({'d.cod_material_domic_fam': [lambda x: 2 in x.values, lambda x: 1 in x.values], # 2 sem e 1 com\n",
    "         'd.cod_material_piso_fam': [lambda x: 2 in x.values, lambda x: 1 in x.values, lambda x: 5 in x.values],# 2-Cimento|1-Terra|3-ceramica e tals\n",
    "         'd.cod_banheiro_domic_fam': [lambda x: 1 in x.values, lambda x: 2 in x.values], #1-Sim|2-Não\n",
    "         'p.cod_raca_cor_pessoa': [lambda x: 2 in x.values, lambda x: 4 in x.values],\n",
    "         'p.cod_sexo_pessoa': lambda x: (2 == x.values).all(),\n",
    "         'p.fx_idade': lambda x: 0 in x.values,\n",
    "         'p.cod_deficiencia_memb': lambda x: 1 in x.values,\n",
    "         'd.qtd_comodos_domic_fam': pd.Series.mode,\n",
    "         'd.qtd_comodos_dormitorio_fam': pd.Series.mode,\n",
    "         'd.num_cep_logradouro_fam': pd.Series.mode})\\\n",
    "    .rename(columns = {'d.cod_material_domic_fam': 'Alvenaria'}).reset_index()"
   ]
  },
  {
   "attachments": {},
   "cell_type": "markdown",
   "id": "68cdafb9",
   "metadata": {},
   "source": [
    "### Ajustando, renomeando colunas e trocando True por 1 e False por 0"
   ]
  },
  {
   "cell_type": "code",
   "execution_count": 8,
   "id": "49e0e881",
   "metadata": {},
   "outputs": [],
   "source": [
    "df_analise_final_menor_89.columns = ['_'.join(col) for col in df_analise_final_menor_89.columns]\n",
    "df_analise_final_menor_89.columns=['d.cod_familiar_fam', 'sem_revestimento', 'com_revestimento',\n",
    "                      'piso_cimento', 'piso_terra', 'piso_ceramica_afins', 'banheiro', 'sem_banheiro',\n",
    "                      'pretos', 'pardos', 'familia_de_mulheres' ,'primeira_infancia', 'pcd',\n",
    "                      'qnt_comodos', 'qnt_dormitorios', 'cep']\n",
    "df_analise_final_menor_89 = df_analise_final_menor_89.replace(True, 1)\n",
    "df_analise_final_menor_89 = df_analise_final_menor_89.replace(False, 0)"
   ]
  },
  {
   "attachments": {},
   "cell_type": "markdown",
   "id": "9237d417",
   "metadata": {},
   "source": [
    "### Criando novo DataFrame que trás as informações necessárias em True ou False e o código familiar dos domicílios com renda per capita acima de R$89,00 até R$218,00"
   ]
  },
  {
   "cell_type": "code",
   "execution_count": 9,
   "id": "ac747c91",
   "metadata": {},
   "outputs": [],
   "source": [
    "df_analise_final_maior_89 = df_analise_2.groupby('d.cod_familiar_fam')\\\n",
    "    .agg({'d.cod_material_domic_fam': [lambda x: 2 in x.values, lambda x: 1 in x.values], # 2 sem e 1 com\n",
    "         'd.cod_material_piso_fam': [lambda x: 2 in x.values, lambda x: 1 in x.values, lambda x: 5 in x.values],# 2-Cimento|1-Terra|3-ceramica e tals\n",
    "         'd.cod_banheiro_domic_fam': [lambda x: 1 in x.values, lambda x: 2 in x.values], #1-Sim|2-Não\n",
    "         'p.cod_raca_cor_pessoa': [lambda x: 2 in x.values, lambda x: 4 in x.values],\n",
    "         'p.cod_sexo_pessoa': lambda x: (2 == x.values).all(),\n",
    "         'p.fx_idade': lambda x: 0 in x.values,\n",
    "         'p.cod_deficiencia_memb': lambda x: 1 in x.values,\n",
    "         'd.qtd_comodos_domic_fam': pd.Series.mode,\n",
    "         'd.qtd_comodos_dormitorio_fam': pd.Series.mode,\n",
    "         'd.num_cep_logradouro_fam': pd.Series.mode})\\\n",
    "    .rename(columns = {'d.cod_material_domic_fam': 'Alvenaria'}).reset_index()"
   ]
  },
  {
   "attachments": {},
   "cell_type": "markdown",
   "id": "08c13765",
   "metadata": {},
   "source": [
    "### Ajustando, renomeando colunas e trocando True por 1 e False por 0"
   ]
  },
  {
   "cell_type": "code",
   "execution_count": 10,
   "id": "1318ea7c",
   "metadata": {},
   "outputs": [],
   "source": [
    "df_analise_final_maior_89.columns = ['_'.join(col) for col in df_analise_final_maior_89.columns]\n",
    "df_analise_final_maior_89.columns=['d.cod_familiar_fam', 'sem_revestimento', 'com_revestimento',\n",
    "                      'piso_cimento', 'piso_terra', 'piso_ceramica_afins', 'banheiro', 'sem_banheiro',\n",
    "                      'pretos', 'pardos', 'familia_de_mulheres' ,'primeira_infancia', 'pcd',\n",
    "                      'qnt_comodos', 'qnt_dormitorios', 'cep']\n",
    "df_analise_final_maior_89 = df_analise_final_maior_89.replace(True, 1)\n",
    "df_analise_final_maior_89 = df_analise_final_maior_89.replace(False, 0)"
   ]
  },
  {
   "attachments": {},
   "cell_type": "markdown",
   "id": "92f2ac2a",
   "metadata": {},
   "source": [
    "### Ajustando coluna 'cep' para 'Int64' e remoção de linha Null"
   ]
  },
  {
   "cell_type": "code",
   "execution_count": 11,
   "id": "85ce26d8",
   "metadata": {},
   "outputs": [],
   "source": [
    "df_analise_final_maior_89['cep'] = df_analise_final_maior_89['cep'].astype(str)\n",
    "df_analise_final_maior_89['cep'] = df_analise_final_maior_89['cep'].str.split('.').str[0]\n",
    "\n",
    "df_analise_final_menor_89['cep'] = df_analise_final_menor_89['cep'].astype(str)\n",
    "df_analise_final_menor_89 = df_analise_final_menor_89.drop(71005)\n",
    "df_analise_final_menor_89['cep'] = df_analise_final_menor_89['cep'].str.split('.').str[0]"
   ]
  },
  {
   "cell_type": "code",
   "execution_count": 12,
   "id": "404f4aa0",
   "metadata": {},
   "outputs": [],
   "source": [
    "df_analise_final_menor_89['cep'] = df_analise_final_menor_89['cep'].astype('Int64')\n",
    "df_analise_final_maior_89['cep'] = df_analise_final_maior_89['cep'].astype('Int64')"
   ]
  },
  {
   "attachments": {},
   "cell_type": "markdown",
   "id": "1499158f",
   "metadata": {},
   "source": [
    "### Lendo arquivo onde tem os CEPs que estão no ProMorar"
   ]
  },
  {
   "cell_type": "code",
   "execution_count": 13,
   "id": "eb6252e7",
   "metadata": {},
   "outputs": [],
   "source": [
    "df_cis_remove = pd.read_csv('CIS_REMOCAO_PRO-MORAR_HABITACIONAIS.csv')"
   ]
  },
  {
   "attachments": {},
   "cell_type": "markdown",
   "id": "fc647b4d",
   "metadata": {},
   "source": [
    "### Ajustes e tratamento da coluna 'Cep' do ProMorar"
   ]
  },
  {
   "cell_type": "code",
   "execution_count": 14,
   "id": "2cc3b4e4",
   "metadata": {},
   "outputs": [
    {
     "name": "stderr",
     "output_type": "stream",
     "text": [
      "C:\\Users\\alexandre.goncalves\\AppData\\Local\\Temp\\ipykernel_23808\\1225615319.py:3: FutureWarning: The default value of regex will change from True to False in a future version. In addition, single character regular expressions will *not* be treated as literal strings when regex=True.\n",
      "  df_cis_remove['Cep'] = df_cis_remove['Cep'].str.replace('.', '')\n"
     ]
    }
   ],
   "source": [
    "df_cis_remove = df_cis_remove[['Cep']]\n",
    "df_cis_remove['Cep'] = df_cis_remove['Cep'].str.replace('-', '')\n",
    "df_cis_remove['Cep'] = df_cis_remove['Cep'].str.replace('.', '')\n",
    "df_cis_remove['Cep'] = df_cis_remove['Cep'].astype('Int64')"
   ]
  },
  {
   "attachments": {},
   "cell_type": "markdown",
   "id": "d942d912",
   "metadata": {},
   "source": [
    "### Removendo CEPs do ProMorar do DataFrame com informações do CadÚnico"
   ]
  },
  {
   "cell_type": "code",
   "execution_count": 15,
   "id": "7fc8f01a",
   "metadata": {},
   "outputs": [],
   "source": [
    "df_analise_final_menor_89 = df_analise_final_menor_89[~df_analise_final_menor_89['cep'].isin(df_cis_remove['Cep'])]\n",
    "df_analise_final_maior_89 = df_analise_final_maior_89[~df_analise_final_maior_89['cep'].isin(df_cis_remove['Cep'])]"
   ]
  },
  {
   "attachments": {},
   "cell_type": "markdown",
   "id": "10ad3ac4",
   "metadata": {},
   "source": [
    "### Filtro 1 - Trazendo todas as famílias que não possuem banheiro com renda acima de R$89,00 até R$218,00"
   ]
  },
  {
   "cell_type": "code",
   "execution_count": 16,
   "id": "45448239",
   "metadata": {},
   "outputs": [],
   "source": [
    "df_pt1 = df_analise_final_maior_89[df_analise_final_maior_89['sem_banheiro']==1]"
   ]
  },
  {
   "attachments": {},
   "cell_type": "markdown",
   "id": "b759ad75",
   "metadata": {},
   "source": [
    "##### Criando colunas com código da obra e informações de renda"
   ]
  },
  {
   "cell_type": "code",
   "execution_count": 17,
   "id": "8d7d0cd7",
   "metadata": {
    "scrolled": true
   },
   "outputs": [
    {
     "name": "stderr",
     "output_type": "stream",
     "text": [
      "C:\\Users\\alexandre.goncalves\\AppData\\Local\\Temp\\ipykernel_23808\\4266482083.py:1: SettingWithCopyWarning: \n",
      "A value is trying to be set on a copy of a slice from a DataFrame.\n",
      "Try using .loc[row_indexer,col_indexer] = value instead\n",
      "\n",
      "See the caveats in the documentation: https://pandas.pydata.org/pandas-docs/stable/user_guide/indexing.html#returning-a-view-versus-a-copy\n",
      "  df_pt1['TP-04'] = 0\n",
      "C:\\Users\\alexandre.goncalves\\AppData\\Local\\Temp\\ipykernel_23808\\4266482083.py:2: SettingWithCopyWarning: \n",
      "A value is trying to be set on a copy of a slice from a DataFrame.\n",
      "Try using .loc[row_indexer,col_indexer] = value instead\n",
      "\n",
      "See the caveats in the documentation: https://pandas.pydata.org/pandas-docs/stable/user_guide/indexing.html#returning-a-view-versus-a-copy\n",
      "  df_pt1['TP-05'] = 0\n",
      "C:\\Users\\alexandre.goncalves\\AppData\\Local\\Temp\\ipykernel_23808\\4266482083.py:3: SettingWithCopyWarning: \n",
      "A value is trying to be set on a copy of a slice from a DataFrame.\n",
      "Try using .loc[row_indexer,col_indexer] = value instead\n",
      "\n",
      "See the caveats in the documentation: https://pandas.pydata.org/pandas-docs/stable/user_guide/indexing.html#returning-a-view-versus-a-copy\n",
      "  df_pt1['TP-06'] = 0\n",
      "C:\\Users\\alexandre.goncalves\\AppData\\Local\\Temp\\ipykernel_23808\\4266482083.py:4: SettingWithCopyWarning: \n",
      "A value is trying to be set on a copy of a slice from a DataFrame.\n",
      "Try using .loc[row_indexer,col_indexer] = value instead\n",
      "\n",
      "See the caveats in the documentation: https://pandas.pydata.org/pandas-docs/stable/user_guide/indexing.html#returning-a-view-versus-a-copy\n",
      "  df_pt1['TP-07'] = 0\n",
      "C:\\Users\\alexandre.goncalves\\AppData\\Local\\Temp\\ipykernel_23808\\4266482083.py:5: SettingWithCopyWarning: \n",
      "A value is trying to be set on a copy of a slice from a DataFrame.\n",
      "Try using .loc[row_indexer,col_indexer] = value instead\n",
      "\n",
      "See the caveats in the documentation: https://pandas.pydata.org/pandas-docs/stable/user_guide/indexing.html#returning-a-view-versus-a-copy\n",
      "  df_pt1['TC-09'] = 1\n",
      "C:\\Users\\alexandre.goncalves\\AppData\\Local\\Temp\\ipykernel_23808\\4266482083.py:6: SettingWithCopyWarning: \n",
      "A value is trying to be set on a copy of a slice from a DataFrame.\n",
      "Try using .loc[row_indexer,col_indexer] = value instead\n",
      "\n",
      "See the caveats in the documentation: https://pandas.pydata.org/pandas-docs/stable/user_guide/indexing.html#returning-a-view-versus-a-copy\n",
      "  df_pt1['TC-10'] = 0\n",
      "C:\\Users\\alexandre.goncalves\\AppData\\Local\\Temp\\ipykernel_23808\\4266482083.py:7: SettingWithCopyWarning: \n",
      "A value is trying to be set on a copy of a slice from a DataFrame.\n",
      "Try using .loc[row_indexer,col_indexer] = value instead\n",
      "\n",
      "See the caveats in the documentation: https://pandas.pydata.org/pandas-docs/stable/user_guide/indexing.html#returning-a-view-versus-a-copy\n",
      "  df_pt1['TC-12'] = 0\n",
      "C:\\Users\\alexandre.goncalves\\AppData\\Local\\Temp\\ipykernel_23808\\4266482083.py:8: SettingWithCopyWarning: \n",
      "A value is trying to be set on a copy of a slice from a DataFrame.\n",
      "Try using .loc[row_indexer,col_indexer] = value instead\n",
      "\n",
      "See the caveats in the documentation: https://pandas.pydata.org/pandas-docs/stable/user_guide/indexing.html#returning-a-view-versus-a-copy\n",
      "  df_pt1['mais_89'] = 1\n",
      "C:\\Users\\alexandre.goncalves\\AppData\\Local\\Temp\\ipykernel_23808\\4266482083.py:9: SettingWithCopyWarning: \n",
      "A value is trying to be set on a copy of a slice from a DataFrame.\n",
      "Try using .loc[row_indexer,col_indexer] = value instead\n",
      "\n",
      "See the caveats in the documentation: https://pandas.pydata.org/pandas-docs/stable/user_guide/indexing.html#returning-a-view-versus-a-copy\n",
      "  df_pt1['menos_89'] = 0\n"
     ]
    }
   ],
   "source": [
    "df_pt1['TP-04'] = 0\n",
    "df_pt1['TP-05'] = 0\n",
    "df_pt1['TP-06'] = 0\n",
    "df_pt1['TP-07'] = 0\n",
    "df_pt1['TC-09'] = 1\n",
    "df_pt1['TC-10'] = 0\n",
    "df_pt1['TC-12'] = 0\n",
    "df_pt1['mais_89'] = 1\n",
    "df_pt1['menos_89'] = 0"
   ]
  },
  {
   "attachments": {},
   "cell_type": "markdown",
   "id": "b967499a",
   "metadata": {},
   "source": [
    "##### Criando colunas que contém custo das obras com seus respectivos parâmetros"
   ]
  },
  {
   "cell_type": "code",
   "execution_count": 18,
   "id": "357dbb34",
   "metadata": {
    "scrolled": true
   },
   "outputs": [
    {
     "name": "stderr",
     "output_type": "stream",
     "text": [
      "C:\\Users\\alexandre.goncalves\\AppData\\Local\\Temp\\ipykernel_23808\\1612351869.py:1: SettingWithCopyWarning: \n",
      "A value is trying to be set on a copy of a slice from a DataFrame.\n",
      "Try using .loc[row_indexer,col_indexer] = value instead\n",
      "\n",
      "See the caveats in the documentation: https://pandas.pydata.org/pandas-docs/stable/user_guide/indexing.html#returning-a-view-versus-a-copy\n",
      "  df_pt1['vlr_TP-04'] = 2161.15 * df_pt1['TP-04']\n",
      "C:\\Users\\alexandre.goncalves\\AppData\\Local\\Temp\\ipykernel_23808\\1612351869.py:2: SettingWithCopyWarning: \n",
      "A value is trying to be set on a copy of a slice from a DataFrame.\n",
      "Try using .loc[row_indexer,col_indexer] = value instead\n",
      "\n",
      "See the caveats in the documentation: https://pandas.pydata.org/pandas-docs/stable/user_guide/indexing.html#returning-a-view-versus-a-copy\n",
      "  df_pt1['vlr_TP-05'] = 716.05 * df_pt1['TP-05'] * df_pt1['qnt_dormitorios']\n",
      "C:\\Users\\alexandre.goncalves\\AppData\\Local\\Temp\\ipykernel_23808\\1612351869.py:3: SettingWithCopyWarning: \n",
      "A value is trying to be set on a copy of a slice from a DataFrame.\n",
      "Try using .loc[row_indexer,col_indexer] = value instead\n",
      "\n",
      "See the caveats in the documentation: https://pandas.pydata.org/pandas-docs/stable/user_guide/indexing.html#returning-a-view-versus-a-copy\n",
      "  df_pt1['vlr_TP-06'] = 854.43 * df_pt1['TP-06'] * df_pt1['qnt_comodos']\n",
      "C:\\Users\\alexandre.goncalves\\AppData\\Local\\Temp\\ipykernel_23808\\1612351869.py:4: SettingWithCopyWarning: \n",
      "A value is trying to be set on a copy of a slice from a DataFrame.\n",
      "Try using .loc[row_indexer,col_indexer] = value instead\n",
      "\n",
      "See the caveats in the documentation: https://pandas.pydata.org/pandas-docs/stable/user_guide/indexing.html#returning-a-view-versus-a-copy\n",
      "  df_pt1['vlr_TP-07'] = 1995.82 * df_pt1['TP-07'] * df_pt1['qnt_comodos']\n",
      "C:\\Users\\alexandre.goncalves\\AppData\\Local\\Temp\\ipykernel_23808\\1612351869.py:5: SettingWithCopyWarning: \n",
      "A value is trying to be set on a copy of a slice from a DataFrame.\n",
      "Try using .loc[row_indexer,col_indexer] = value instead\n",
      "\n",
      "See the caveats in the documentation: https://pandas.pydata.org/pandas-docs/stable/user_guide/indexing.html#returning-a-view-versus-a-copy\n",
      "  df_pt1['vlr_TC-09'] = 12094.26 * df_pt1['TC-09']\n",
      "C:\\Users\\alexandre.goncalves\\AppData\\Local\\Temp\\ipykernel_23808\\1612351869.py:6: SettingWithCopyWarning: \n",
      "A value is trying to be set on a copy of a slice from a DataFrame.\n",
      "Try using .loc[row_indexer,col_indexer] = value instead\n",
      "\n",
      "See the caveats in the documentation: https://pandas.pydata.org/pandas-docs/stable/user_guide/indexing.html#returning-a-view-versus-a-copy\n",
      "  df_pt1['vlr_TC-10'] = 4334.79 * df_pt1['TC-10']\n",
      "C:\\Users\\alexandre.goncalves\\AppData\\Local\\Temp\\ipykernel_23808\\1612351869.py:7: SettingWithCopyWarning: \n",
      "A value is trying to be set on a copy of a slice from a DataFrame.\n",
      "Try using .loc[row_indexer,col_indexer] = value instead\n",
      "\n",
      "See the caveats in the documentation: https://pandas.pydata.org/pandas-docs/stable/user_guide/indexing.html#returning-a-view-versus-a-copy\n",
      "  df_pt1['vlr_TC-12'] = 5579.95 * df_pt1['TC-12']\n"
     ]
    }
   ],
   "source": [
    "df_pt1['vlr_TP-04'] = 2161.15 * df_pt1['TP-04']\n",
    "df_pt1['vlr_TP-05'] = 716.05 * df_pt1['TP-05'] * df_pt1['qnt_dormitorios']\n",
    "df_pt1['vlr_TP-06'] = 854.43 * df_pt1['TP-06'] * df_pt1['qnt_comodos']\n",
    "df_pt1['vlr_TP-07'] = 1995.82 * df_pt1['TP-07'] * df_pt1['qnt_comodos']\n",
    "df_pt1['vlr_TC-09'] = 12094.26 * df_pt1['TC-09']\n",
    "df_pt1['vlr_TC-10'] = 4334.79 * df_pt1['TC-10']\n",
    "df_pt1['vlr_TC-12'] = 5579.95 * df_pt1['TC-12']"
   ]
  },
  {
   "attachments": {},
   "cell_type": "markdown",
   "id": "00705ab6",
   "metadata": {},
   "source": [
    "##### Criando coluna com o custo total da obra de cada domicílio"
   ]
  },
  {
   "cell_type": "code",
   "execution_count": 19,
   "id": "f19f8b7d",
   "metadata": {
    "scrolled": false
   },
   "outputs": [
    {
     "name": "stderr",
     "output_type": "stream",
     "text": [
      "C:\\Users\\alexandre.goncalves\\AppData\\Local\\Temp\\ipykernel_23808\\3053910290.py:1: SettingWithCopyWarning: \n",
      "A value is trying to be set on a copy of a slice from a DataFrame.\n",
      "Try using .loc[row_indexer,col_indexer] = value instead\n",
      "\n",
      "See the caveats in the documentation: https://pandas.pydata.org/pandas-docs/stable/user_guide/indexing.html#returning-a-view-versus-a-copy\n",
      "  df_pt1['vlr_total'] = df_pt1['vlr_TP-04'] + \\\n"
     ]
    }
   ],
   "source": [
    "df_pt1['vlr_total'] = df_pt1['vlr_TP-04'] + \\\n",
    "                        df_pt1['vlr_TP-05'] + \\\n",
    "                        df_pt1['vlr_TP-06'] + \\\n",
    "                        df_pt1['vlr_TP-07'] + \\\n",
    "                        df_pt1['vlr_TC-09'] + \\\n",
    "                        df_pt1['vlr_TC-10'] + \\\n",
    "                        df_pt1['vlr_TC-12']"
   ]
  },
  {
   "attachments": {},
   "cell_type": "markdown",
   "id": "f0779315",
   "metadata": {},
   "source": [
    "### Filtro 2 - Trazendo domicílios sem banheiro e com piso em terra com renda até R$89,00"
   ]
  },
  {
   "cell_type": "code",
   "execution_count": 20,
   "id": "59d2ba3c",
   "metadata": {},
   "outputs": [],
   "source": [
    "df_pt2 = df_analise_final_menor_89[(df_analise_final_menor_89['sem_banheiro']==1) & (df_analise_final_menor_89['piso_terra']==1)]"
   ]
  },
  {
   "attachments": {},
   "cell_type": "markdown",
   "id": "1c9de9d0",
   "metadata": {},
   "source": [
    "##### Removendo os domicílios que foram selecionados no 'Filtro 2' do DataFrame principal"
   ]
  },
  {
   "cell_type": "code",
   "execution_count": 21,
   "id": "fd7f7dd8",
   "metadata": {},
   "outputs": [],
   "source": [
    "df_analise_final_menor_89 = df_analise_final_menor_89[~df_analise_final_menor_89['d.cod_familiar_fam'].isin(df_pt2['d.cod_familiar_fam'])]"
   ]
  },
  {
   "attachments": {},
   "cell_type": "markdown",
   "id": "2675da7f",
   "metadata": {},
   "source": [
    "##### Criando colunas com código da obra e informações de renda\n",
    "##### Criando colunas que contém custo das obras com seus respectivos parâmetros\n",
    "##### Criando coluna com o custo total da obra de cada domicílio"
   ]
  },
  {
   "cell_type": "code",
   "execution_count": 22,
   "id": "8e234767",
   "metadata": {},
   "outputs": [],
   "source": [
    "df_pt2['TP-04'] = 1\n",
    "df_pt2['TP-05'] = 1\n",
    "df_pt2['TP-06'] = 1\n",
    "df_pt2['TP-07'] = 1\n",
    "df_pt2['TC-09'] = 1\n",
    "df_pt2['TC-10'] = 0\n",
    "df_pt2['TC-12'] = 1\n",
    "df_pt2['mais_89'] = 0\n",
    "df_pt2['menos_89'] = 1\n",
    "\n",
    "df_pt2['vlr_TP-04'] = 2161.15 * df_pt2['TP-04']\n",
    "df_pt2['vlr_TP-05'] = 716.05 * df_pt2['TP-05'] * df_pt2['qnt_dormitorios']\n",
    "df_pt2['vlr_TP-06'] = 854.43 * df_pt2['TP-06'] * df_pt2['qnt_comodos']\n",
    "df_pt2['vlr_TP-07'] = 1995.82 * df_pt2['TP-07'] * df_pt2['qnt_comodos']\n",
    "df_pt2['vlr_TC-09'] = 12094.26 * df_pt2['TC-09']\n",
    "df_pt2['vlr_TC-10'] = 4334.79 * df_pt2['TC-10']\n",
    "df_pt2['vlr_TC-12'] = 5579.95 * df_pt2['TC-12']\n",
    "\n",
    "df_pt2['vlr_total'] = df_pt2['vlr_TP-04'] + \\\n",
    "                        df_pt2['vlr_TP-05'] + \\\n",
    "                        df_pt2['vlr_TP-06'] + \\\n",
    "                        df_pt2['vlr_TP-07'] + \\\n",
    "                        df_pt2['vlr_TC-09'] + \\\n",
    "                        df_pt2['vlr_TC-10'] + \\\n",
    "                        df_pt2['vlr_TC-12']"
   ]
  },
  {
   "attachments": {},
   "cell_type": "markdown",
   "id": "815c6d5f",
   "metadata": {},
   "source": [
    "### Filtro 3 - Trazendo domicílios sem banheiro e com piso em cimento com renda até R$89,00"
   ]
  },
  {
   "cell_type": "code",
   "execution_count": 24,
   "id": "e7fdc55b",
   "metadata": {},
   "outputs": [],
   "source": [
    "df_pt3 = df_analise_final_menor_89[(df_analise_final_menor_89['piso_cimento']==1) & (df_analise_final_menor_89['sem_banheiro']==1)]"
   ]
  },
  {
   "attachments": {},
   "cell_type": "markdown",
   "id": "01744de6",
   "metadata": {},
   "source": [
    "##### Removendo os domicílios que foram selecionados no 'Filtro 3' do DataFrame principal"
   ]
  },
  {
   "cell_type": "code",
   "execution_count": 25,
   "id": "611868ab",
   "metadata": {},
   "outputs": [],
   "source": [
    "df_analise_final_menor_89 = df_analise_final_menor_89[~df_analise_final_menor_89['d.cod_familiar_fam'].isin(df_pt3['d.cod_familiar_fam'])]"
   ]
  },
  {
   "attachments": {},
   "cell_type": "markdown",
   "id": "316ab418",
   "metadata": {},
   "source": [
    "##### Criando colunas com código da obra e informações de renda\n",
    "##### Criando colunas que contém custo das obras com seus respectivos parâmetros\n",
    "##### Criando coluna com o custo total da obra de cada domicílio"
   ]
  },
  {
   "cell_type": "code",
   "execution_count": 26,
   "id": "98248ee6",
   "metadata": {},
   "outputs": [],
   "source": [
    "df_pt3['TP-04'] = 1\n",
    "df_pt3['TP-05'] = 1\n",
    "df_pt3['TP-06'] = 1\n",
    "df_pt3['TP-07'] = 1\n",
    "df_pt3['TC-09'] = 1\n",
    "df_pt3['TC-10'] = 0\n",
    "df_pt3['TC-12'] = 1\n",
    "df_pt3['mais_89'] = 0\n",
    "df_pt3['menos_89'] = 1\n",
    "\n",
    "df_pt3['vlr_TP-04'] = 2161.15 * df_pt3['TP-04']\n",
    "df_pt3['vlr_TP-05'] = 716.05 * df_pt3['TP-05'] * df_pt3['qnt_dormitorios']\n",
    "df_pt3['vlr_TP-06'] = 854.43 * df_pt3['TP-06'] * df_pt3['qnt_comodos']\n",
    "df_pt3['vlr_TP-07'] = 1995.82 * df_pt3['TP-07'] * df_pt3['qnt_comodos']\n",
    "df_pt3['vlr_TC-09'] = 12094.26 * df_pt3['TC-09']\n",
    "df_pt3['vlr_TC-10'] = 4334.79 * df_pt3['TC-10']\n",
    "df_pt3['vlr_TC-12'] = 5579.95 * df_pt3['TC-12']\n",
    "\n",
    "df_pt3['vlr_total'] = df_pt3['vlr_TP-04'] + \\\n",
    "                        df_pt3['vlr_TP-05'] + \\\n",
    "                        df_pt3['vlr_TP-06'] + \\\n",
    "                        df_pt3['vlr_TP-07'] + \\\n",
    "                        df_pt3['vlr_TC-09'] + \\\n",
    "                        df_pt3['vlr_TC-10'] + \\\n",
    "                        df_pt3['vlr_TC-12']"
   ]
  },
  {
   "attachments": {},
   "cell_type": "markdown",
   "id": "2d158167",
   "metadata": {},
   "source": [
    "### Filtro 4 - Trazendo domicílios sem banheiro com renda até R$89,00"
   ]
  },
  {
   "cell_type": "code",
   "execution_count": 27,
   "id": "afde5855",
   "metadata": {},
   "outputs": [],
   "source": [
    "df_pt4 = df_analise_final_menor_89[(df_analise_final_menor_89['sem_banheiro']==1)]"
   ]
  },
  {
   "attachments": {},
   "cell_type": "markdown",
   "id": "aee2a1ad",
   "metadata": {},
   "source": [
    "##### Removendo os domicílios que foram selecionados no 'Filtro 4' do DataFrame principal"
   ]
  },
  {
   "cell_type": "code",
   "execution_count": 28,
   "id": "62cff23e",
   "metadata": {},
   "outputs": [],
   "source": [
    "df_analise_final_menor_89 = df_analise_final_menor_89[~df_analise_final_menor_89['d.cod_familiar_fam'].isin(df_pt4['d.cod_familiar_fam'])]"
   ]
  },
  {
   "attachments": {},
   "cell_type": "markdown",
   "id": "6f3683db",
   "metadata": {},
   "source": [
    "##### Criando colunas com código da obra e informações de renda\n",
    "##### Criando colunas que contém custo das obras com seus respectivos parâmetros\n",
    "##### Criando coluna com o custo total da obra de cada domicílio"
   ]
  },
  {
   "cell_type": "code",
   "execution_count": 29,
   "id": "1b571399",
   "metadata": {},
   "outputs": [],
   "source": [
    "df_pt4['TP-04'] = 0\n",
    "df_pt4['TP-05'] = 0\n",
    "df_pt4['TP-06'] = 0\n",
    "df_pt4['TP-07'] = 0\n",
    "df_pt4['TC-09'] = 1\n",
    "df_pt4['TC-10'] = 0\n",
    "df_pt4['TC-12'] = 0\n",
    "df_pt4['mais_89'] = 0\n",
    "df_pt4['menos_89'] = 1\n",
    "\n",
    "df_pt4['vlr_TP-04'] = 2161.15 * df_pt4['TP-04']\n",
    "df_pt4['vlr_TP-05'] = 716.05 * df_pt4['TP-05'] * df_pt4['qnt_dormitorios']\n",
    "df_pt4['vlr_TP-06'] = 854.43 * df_pt4['TP-06'] * df_pt4['qnt_comodos']\n",
    "df_pt4['vlr_TP-07'] = 1995.82 * df_pt4['TP-07'] * df_pt4['qnt_comodos']\n",
    "df_pt4['vlr_TC-09'] = 12094.26 * df_pt4['TC-09']\n",
    "df_pt4['vlr_TC-10'] = 4334.79 * df_pt4['TC-10']\n",
    "df_pt4['vlr_TC-12'] = 5579.95 * df_pt4['TC-12']\n",
    "\n",
    "df_pt4['vlr_total'] = df_pt4['vlr_TP-04'] + \\\n",
    "                        df_pt4['vlr_TP-05'] + \\\n",
    "                        df_pt4['vlr_TP-06'] + \\\n",
    "                        df_pt4['vlr_TP-07'] + \\\n",
    "                        df_pt4['vlr_TC-09'] + \\\n",
    "                        df_pt4['vlr_TC-10'] + \\\n",
    "                        df_pt4['vlr_TC-12']"
   ]
  },
  {
   "attachments": {},
   "cell_type": "markdown",
   "id": "31663cfa",
   "metadata": {},
   "source": [
    "### Filtro 5 - Trazendo domicílios com piso em terra com renda até R$89,00"
   ]
  },
  {
   "cell_type": "code",
   "execution_count": 30,
   "id": "3c723b87",
   "metadata": {},
   "outputs": [],
   "source": [
    "df_pt5 = df_analise_final_menor_89[(df_analise_final_menor_89['piso_terra']==1)]"
   ]
  },
  {
   "attachments": {},
   "cell_type": "markdown",
   "id": "0d39e569",
   "metadata": {},
   "source": [
    "##### Removendo os domicílios que foram selecionados no 'Filtro 5' do DataFrame principal"
   ]
  },
  {
   "cell_type": "code",
   "execution_count": 31,
   "id": "e0987521",
   "metadata": {},
   "outputs": [],
   "source": [
    "df_analise_final_menor_89 = df_analise_final_menor_89[~df_analise_final_menor_89['d.cod_familiar_fam'].isin(df_pt5['d.cod_familiar_fam'])]"
   ]
  },
  {
   "attachments": {},
   "cell_type": "markdown",
   "id": "d02e9261",
   "metadata": {},
   "source": [
    "##### Criando colunas com código da obra e informações de renda\n",
    "##### Criando colunas que contém custo das obras com seus respectivos parâmetros\n",
    "##### Criando coluna com o custo total da obra de cada domicílio"
   ]
  },
  {
   "cell_type": "code",
   "execution_count": 32,
   "id": "0f3f07ba",
   "metadata": {},
   "outputs": [],
   "source": [
    "df_pt5['TP-04'] = 1\n",
    "df_pt5['TP-05'] = 1\n",
    "df_pt5['TP-06'] = 1\n",
    "df_pt5['TP-07'] = 1\n",
    "df_pt5['TC-09'] = 0\n",
    "df_pt5['TC-10'] = 1\n",
    "df_pt5['TC-12'] = 1\n",
    "df_pt5['mais_89'] = 0\n",
    "df_pt5['menos_89'] = 1\n",
    "\n",
    "df_pt5['vlr_TP-04'] = 2161.15 * df_pt5['TP-04']\n",
    "df_pt5['vlr_TP-05'] = 716.05 * df_pt5['TP-05'] * df_pt5['qnt_dormitorios']\n",
    "df_pt5['vlr_TP-06'] = 854.43 * df_pt5['TP-06'] * df_pt5['qnt_comodos']\n",
    "df_pt5['vlr_TP-07'] = 1995.82 * df_pt5['TP-07'] * df_pt5['qnt_comodos']\n",
    "df_pt5['vlr_TC-09'] = 12094.26 * df_pt5['TC-09']\n",
    "df_pt5['vlr_TC-10'] = 4334.79 * df_pt5['TC-10']\n",
    "df_pt5['vlr_TC-12'] = 5579.95 * df_pt5['TC-12']\n",
    "\n",
    "df_pt5['vlr_total'] = df_pt5['vlr_TP-04'] + \\\n",
    "                        df_pt5['vlr_TP-05'] + \\\n",
    "                        df_pt5['vlr_TP-06'] + \\\n",
    "                        df_pt5['vlr_TP-07'] + \\\n",
    "                        df_pt5['vlr_TC-09'] + \\\n",
    "                        df_pt5['vlr_TC-10'] + \\\n",
    "                        df_pt5['vlr_TC-12']"
   ]
  },
  {
   "attachments": {},
   "cell_type": "markdown",
   "id": "22ab8262",
   "metadata": {},
   "source": [
    "Juntando filtros 1, 2, 3, 4 e 5 em um DataFrame"
   ]
  },
  {
   "cell_type": "code",
   "execution_count": 40,
   "id": "34f88d79",
   "metadata": {},
   "outputs": [],
   "source": [
    "df_final = pd.concat([df_pt1, df_pt2, df_pt3, df_pt4, df_pt5])"
   ]
  },
  {
   "cell_type": "code",
   "execution_count": 41,
   "id": "aa84caa8",
   "metadata": {},
   "outputs": [
    {
     "data": {
      "text/html": [
       "<div>\n",
       "<style scoped>\n",
       "    .dataframe tbody tr th:only-of-type {\n",
       "        vertical-align: middle;\n",
       "    }\n",
       "\n",
       "    .dataframe tbody tr th {\n",
       "        vertical-align: top;\n",
       "    }\n",
       "\n",
       "    .dataframe thead th {\n",
       "        text-align: right;\n",
       "    }\n",
       "</style>\n",
       "<table border=\"1\" class=\"dataframe\">\n",
       "  <thead>\n",
       "    <tr style=\"text-align: right;\">\n",
       "      <th></th>\n",
       "      <th>d.cod_familiar_fam</th>\n",
       "      <th>sem_revestimento</th>\n",
       "      <th>com_revestimento</th>\n",
       "      <th>piso_cimento</th>\n",
       "      <th>piso_terra</th>\n",
       "      <th>piso_ceramica_afins</th>\n",
       "      <th>banheiro</th>\n",
       "      <th>sem_banheiro</th>\n",
       "      <th>pretos</th>\n",
       "      <th>pardos</th>\n",
       "      <th>familia_de_mulheres</th>\n",
       "      <th>primeira_infancia</th>\n",
       "      <th>pcd</th>\n",
       "      <th>qnt_comodos</th>\n",
       "      <th>qnt_dormitorios</th>\n",
       "      <th>cep</th>\n",
       "      <th>TP-04</th>\n",
       "      <th>TP-05</th>\n",
       "      <th>TP-06</th>\n",
       "      <th>TP-07</th>\n",
       "      <th>TC-09</th>\n",
       "      <th>TC-10</th>\n",
       "      <th>TC-12</th>\n",
       "      <th>mais_89</th>\n",
       "      <th>menos_89</th>\n",
       "      <th>vlr_TP-04</th>\n",
       "      <th>vlr_TP-05</th>\n",
       "      <th>vlr_TP-06</th>\n",
       "      <th>vlr_TP-07</th>\n",
       "      <th>vlr_TC-09</th>\n",
       "      <th>vlr_TC-10</th>\n",
       "      <th>vlr_TC-12</th>\n",
       "      <th>vlr_total</th>\n",
       "    </tr>\n",
       "  </thead>\n",
       "  <tbody>\n",
       "    <tr>\n",
       "      <th>101</th>\n",
       "      <td>00268953406</td>\n",
       "      <td>1</td>\n",
       "      <td>0</td>\n",
       "      <td>1</td>\n",
       "      <td>0</td>\n",
       "      <td>0</td>\n",
       "      <td>0</td>\n",
       "      <td>1</td>\n",
       "      <td>0</td>\n",
       "      <td>0</td>\n",
       "      <td>0</td>\n",
       "      <td>0</td>\n",
       "      <td>0</td>\n",
       "      <td>2.0</td>\n",
       "      <td>1</td>\n",
       "      <td>50721080</td>\n",
       "      <td>0</td>\n",
       "      <td>0</td>\n",
       "      <td>0</td>\n",
       "      <td>0</td>\n",
       "      <td>1</td>\n",
       "      <td>0</td>\n",
       "      <td>0</td>\n",
       "      <td>1</td>\n",
       "      <td>0</td>\n",
       "      <td>0.00</td>\n",
       "      <td>0.0</td>\n",
       "      <td>0.0</td>\n",
       "      <td>0.0</td>\n",
       "      <td>12094.26</td>\n",
       "      <td>0.00</td>\n",
       "      <td>0.00</td>\n",
       "      <td>12094.26</td>\n",
       "    </tr>\n",
       "    <tr>\n",
       "      <th>126</th>\n",
       "      <td>00283621877</td>\n",
       "      <td>1</td>\n",
       "      <td>0</td>\n",
       "      <td>1</td>\n",
       "      <td>0</td>\n",
       "      <td>0</td>\n",
       "      <td>0</td>\n",
       "      <td>1</td>\n",
       "      <td>0</td>\n",
       "      <td>1</td>\n",
       "      <td>1</td>\n",
       "      <td>0</td>\n",
       "      <td>1</td>\n",
       "      <td>2.0</td>\n",
       "      <td>1</td>\n",
       "      <td>51220230</td>\n",
       "      <td>0</td>\n",
       "      <td>0</td>\n",
       "      <td>0</td>\n",
       "      <td>0</td>\n",
       "      <td>1</td>\n",
       "      <td>0</td>\n",
       "      <td>0</td>\n",
       "      <td>1</td>\n",
       "      <td>0</td>\n",
       "      <td>0.00</td>\n",
       "      <td>0.0</td>\n",
       "      <td>0.0</td>\n",
       "      <td>0.0</td>\n",
       "      <td>12094.26</td>\n",
       "      <td>0.00</td>\n",
       "      <td>0.00</td>\n",
       "      <td>12094.26</td>\n",
       "    </tr>\n",
       "    <tr>\n",
       "      <th>185</th>\n",
       "      <td>00337495076</td>\n",
       "      <td>0</td>\n",
       "      <td>1</td>\n",
       "      <td>1</td>\n",
       "      <td>0</td>\n",
       "      <td>0</td>\n",
       "      <td>0</td>\n",
       "      <td>1</td>\n",
       "      <td>0</td>\n",
       "      <td>1</td>\n",
       "      <td>1</td>\n",
       "      <td>0</td>\n",
       "      <td>0</td>\n",
       "      <td>1</td>\n",
       "      <td>1</td>\n",
       "      <td>50870495</td>\n",
       "      <td>0</td>\n",
       "      <td>0</td>\n",
       "      <td>0</td>\n",
       "      <td>0</td>\n",
       "      <td>1</td>\n",
       "      <td>0</td>\n",
       "      <td>0</td>\n",
       "      <td>1</td>\n",
       "      <td>0</td>\n",
       "      <td>0.00</td>\n",
       "      <td>0.0</td>\n",
       "      <td>0.0</td>\n",
       "      <td>0.0</td>\n",
       "      <td>12094.26</td>\n",
       "      <td>0.00</td>\n",
       "      <td>0.00</td>\n",
       "      <td>12094.26</td>\n",
       "    </tr>\n",
       "    <tr>\n",
       "      <th>226</th>\n",
       "      <td>00337530246</td>\n",
       "      <td>0</td>\n",
       "      <td>0</td>\n",
       "      <td>1</td>\n",
       "      <td>0</td>\n",
       "      <td>0</td>\n",
       "      <td>0</td>\n",
       "      <td>1</td>\n",
       "      <td>0</td>\n",
       "      <td>1</td>\n",
       "      <td>1</td>\n",
       "      <td>0</td>\n",
       "      <td>0</td>\n",
       "      <td>4.0</td>\n",
       "      <td>1</td>\n",
       "      <td>51170650</td>\n",
       "      <td>0</td>\n",
       "      <td>0</td>\n",
       "      <td>0</td>\n",
       "      <td>0</td>\n",
       "      <td>1</td>\n",
       "      <td>0</td>\n",
       "      <td>0</td>\n",
       "      <td>1</td>\n",
       "      <td>0</td>\n",
       "      <td>0.00</td>\n",
       "      <td>0.0</td>\n",
       "      <td>0.0</td>\n",
       "      <td>0.0</td>\n",
       "      <td>12094.26</td>\n",
       "      <td>0.00</td>\n",
       "      <td>0.00</td>\n",
       "      <td>12094.26</td>\n",
       "    </tr>\n",
       "    <tr>\n",
       "      <th>249</th>\n",
       "      <td>00337545510</td>\n",
       "      <td>0</td>\n",
       "      <td>0</td>\n",
       "      <td>0</td>\n",
       "      <td>0</td>\n",
       "      <td>0</td>\n",
       "      <td>0</td>\n",
       "      <td>1</td>\n",
       "      <td>1</td>\n",
       "      <td>0</td>\n",
       "      <td>0</td>\n",
       "      <td>0</td>\n",
       "      <td>0</td>\n",
       "      <td>4.0</td>\n",
       "      <td>1</td>\n",
       "      <td>51011330</td>\n",
       "      <td>0</td>\n",
       "      <td>0</td>\n",
       "      <td>0</td>\n",
       "      <td>0</td>\n",
       "      <td>1</td>\n",
       "      <td>0</td>\n",
       "      <td>0</td>\n",
       "      <td>1</td>\n",
       "      <td>0</td>\n",
       "      <td>0.00</td>\n",
       "      <td>0.0</td>\n",
       "      <td>0.0</td>\n",
       "      <td>0.0</td>\n",
       "      <td>12094.26</td>\n",
       "      <td>0.00</td>\n",
       "      <td>0.00</td>\n",
       "      <td>12094.26</td>\n",
       "    </tr>\n",
       "    <tr>\n",
       "      <th>...</th>\n",
       "      <td>...</td>\n",
       "      <td>...</td>\n",
       "      <td>...</td>\n",
       "      <td>...</td>\n",
       "      <td>...</td>\n",
       "      <td>...</td>\n",
       "      <td>...</td>\n",
       "      <td>...</td>\n",
       "      <td>...</td>\n",
       "      <td>...</td>\n",
       "      <td>...</td>\n",
       "      <td>...</td>\n",
       "      <td>...</td>\n",
       "      <td>...</td>\n",
       "      <td>...</td>\n",
       "      <td>...</td>\n",
       "      <td>...</td>\n",
       "      <td>...</td>\n",
       "      <td>...</td>\n",
       "      <td>...</td>\n",
       "      <td>...</td>\n",
       "      <td>...</td>\n",
       "      <td>...</td>\n",
       "      <td>...</td>\n",
       "      <td>...</td>\n",
       "      <td>...</td>\n",
       "      <td>...</td>\n",
       "      <td>...</td>\n",
       "      <td>...</td>\n",
       "      <td>...</td>\n",
       "      <td>...</td>\n",
       "      <td>...</td>\n",
       "      <td>...</td>\n",
       "    </tr>\n",
       "    <tr>\n",
       "      <th>77097</th>\n",
       "      <td>07805297231</td>\n",
       "      <td>0</td>\n",
       "      <td>0</td>\n",
       "      <td>0</td>\n",
       "      <td>1</td>\n",
       "      <td>0</td>\n",
       "      <td>1</td>\n",
       "      <td>0</td>\n",
       "      <td>1</td>\n",
       "      <td>0</td>\n",
       "      <td>0</td>\n",
       "      <td>0</td>\n",
       "      <td>0</td>\n",
       "      <td>2.0</td>\n",
       "      <td>1</td>\n",
       "      <td>50820500</td>\n",
       "      <td>1</td>\n",
       "      <td>1</td>\n",
       "      <td>1</td>\n",
       "      <td>1</td>\n",
       "      <td>0</td>\n",
       "      <td>1</td>\n",
       "      <td>1</td>\n",
       "      <td>0</td>\n",
       "      <td>1</td>\n",
       "      <td>2161.15</td>\n",
       "      <td>716.05</td>\n",
       "      <td>1708.86</td>\n",
       "      <td>3991.64</td>\n",
       "      <td>0.00</td>\n",
       "      <td>4334.79</td>\n",
       "      <td>5579.95</td>\n",
       "      <td>18492.44</td>\n",
       "    </tr>\n",
       "    <tr>\n",
       "      <th>77252</th>\n",
       "      <td>07830807787</td>\n",
       "      <td>1</td>\n",
       "      <td>0</td>\n",
       "      <td>0</td>\n",
       "      <td>1</td>\n",
       "      <td>0</td>\n",
       "      <td>1</td>\n",
       "      <td>0</td>\n",
       "      <td>0</td>\n",
       "      <td>1</td>\n",
       "      <td>0</td>\n",
       "      <td>0</td>\n",
       "      <td>0</td>\n",
       "      <td>2.0</td>\n",
       "      <td>1</td>\n",
       "      <td>51240420</td>\n",
       "      <td>1</td>\n",
       "      <td>1</td>\n",
       "      <td>1</td>\n",
       "      <td>1</td>\n",
       "      <td>0</td>\n",
       "      <td>1</td>\n",
       "      <td>1</td>\n",
       "      <td>0</td>\n",
       "      <td>1</td>\n",
       "      <td>2161.15</td>\n",
       "      <td>716.05</td>\n",
       "      <td>1708.86</td>\n",
       "      <td>3991.64</td>\n",
       "      <td>0.00</td>\n",
       "      <td>4334.79</td>\n",
       "      <td>5579.95</td>\n",
       "      <td>18492.44</td>\n",
       "    </tr>\n",
       "    <tr>\n",
       "      <th>77261</th>\n",
       "      <td>07832472308</td>\n",
       "      <td>0</td>\n",
       "      <td>0</td>\n",
       "      <td>0</td>\n",
       "      <td>1</td>\n",
       "      <td>0</td>\n",
       "      <td>1</td>\n",
       "      <td>0</td>\n",
       "      <td>0</td>\n",
       "      <td>1</td>\n",
       "      <td>0</td>\n",
       "      <td>0</td>\n",
       "      <td>1</td>\n",
       "      <td>2.0</td>\n",
       "      <td>1</td>\n",
       "      <td>51010100</td>\n",
       "      <td>1</td>\n",
       "      <td>1</td>\n",
       "      <td>1</td>\n",
       "      <td>1</td>\n",
       "      <td>0</td>\n",
       "      <td>1</td>\n",
       "      <td>1</td>\n",
       "      <td>0</td>\n",
       "      <td>1</td>\n",
       "      <td>2161.15</td>\n",
       "      <td>716.05</td>\n",
       "      <td>1708.86</td>\n",
       "      <td>3991.64</td>\n",
       "      <td>0.00</td>\n",
       "      <td>4334.79</td>\n",
       "      <td>5579.95</td>\n",
       "      <td>18492.44</td>\n",
       "    </tr>\n",
       "    <tr>\n",
       "      <th>77266</th>\n",
       "      <td>07832869100</td>\n",
       "      <td>0</td>\n",
       "      <td>1</td>\n",
       "      <td>0</td>\n",
       "      <td>1</td>\n",
       "      <td>0</td>\n",
       "      <td>1</td>\n",
       "      <td>0</td>\n",
       "      <td>1</td>\n",
       "      <td>0</td>\n",
       "      <td>0</td>\n",
       "      <td>0</td>\n",
       "      <td>0</td>\n",
       "      <td>4.0</td>\n",
       "      <td>1</td>\n",
       "      <td>52030130</td>\n",
       "      <td>1</td>\n",
       "      <td>1</td>\n",
       "      <td>1</td>\n",
       "      <td>1</td>\n",
       "      <td>0</td>\n",
       "      <td>1</td>\n",
       "      <td>1</td>\n",
       "      <td>0</td>\n",
       "      <td>1</td>\n",
       "      <td>2161.15</td>\n",
       "      <td>716.05</td>\n",
       "      <td>3417.72</td>\n",
       "      <td>7983.28</td>\n",
       "      <td>0.00</td>\n",
       "      <td>4334.79</td>\n",
       "      <td>5579.95</td>\n",
       "      <td>24192.94</td>\n",
       "    </tr>\n",
       "    <tr>\n",
       "      <th>77380</th>\n",
       "      <td>07849856775</td>\n",
       "      <td>1</td>\n",
       "      <td>0</td>\n",
       "      <td>0</td>\n",
       "      <td>1</td>\n",
       "      <td>0</td>\n",
       "      <td>1</td>\n",
       "      <td>0</td>\n",
       "      <td>0</td>\n",
       "      <td>1</td>\n",
       "      <td>0</td>\n",
       "      <td>0</td>\n",
       "      <td>0</td>\n",
       "      <td>3.0</td>\n",
       "      <td>1</td>\n",
       "      <td>52171215</td>\n",
       "      <td>1</td>\n",
       "      <td>1</td>\n",
       "      <td>1</td>\n",
       "      <td>1</td>\n",
       "      <td>0</td>\n",
       "      <td>1</td>\n",
       "      <td>1</td>\n",
       "      <td>0</td>\n",
       "      <td>1</td>\n",
       "      <td>2161.15</td>\n",
       "      <td>716.05</td>\n",
       "      <td>2563.29</td>\n",
       "      <td>5987.46</td>\n",
       "      <td>0.00</td>\n",
       "      <td>4334.79</td>\n",
       "      <td>5579.95</td>\n",
       "      <td>21342.69</td>\n",
       "    </tr>\n",
       "  </tbody>\n",
       "</table>\n",
       "<p>7356 rows × 33 columns</p>\n",
       "</div>"
      ],
      "text/plain": [
       "      d.cod_familiar_fam  sem_revestimento  com_revestimento  piso_cimento  piso_terra  piso_ceramica_afins  banheiro  sem_banheiro  pretos  pardos  familia_de_mulheres  primeira_infancia  pcd qnt_comodos qnt_dormitorios       cep  TP-04  TP-05  TP-06  TP-07  TC-09  TC-10  TC-12  mais_89  menos_89  vlr_TP-04 vlr_TP-05 vlr_TP-06 vlr_TP-07  vlr_TC-09  vlr_TC-10  vlr_TC-12 vlr_total\n",
       "101          00268953406                 1                 0             1           0                    0         0             1       0       0                    0                  0    0         2.0               1  50721080      0      0      0      0      1      0      0        1         0       0.00       0.0       0.0       0.0   12094.26       0.00       0.00  12094.26\n",
       "126          00283621877                 1                 0             1           0                    0         0             1       0       1                    1                  0    1         2.0               1  51220230      0      0      0      0      1      0      0        1         0       0.00       0.0       0.0       0.0   12094.26       0.00       0.00  12094.26\n",
       "185          00337495076                 0                 1             1           0                    0         0             1       0       1                    1                  0    0           1               1  50870495      0      0      0      0      1      0      0        1         0       0.00       0.0       0.0       0.0   12094.26       0.00       0.00  12094.26\n",
       "226          00337530246                 0                 0             1           0                    0         0             1       0       1                    1                  0    0         4.0               1  51170650      0      0      0      0      1      0      0        1         0       0.00       0.0       0.0       0.0   12094.26       0.00       0.00  12094.26\n",
       "249          00337545510                 0                 0             0           0                    0         0             1       1       0                    0                  0    0         4.0               1  51011330      0      0      0      0      1      0      0        1         0       0.00       0.0       0.0       0.0   12094.26       0.00       0.00  12094.26\n",
       "...                  ...               ...               ...           ...         ...                  ...       ...           ...     ...     ...                  ...                ...  ...         ...             ...       ...    ...    ...    ...    ...    ...    ...    ...      ...       ...        ...       ...       ...       ...        ...        ...        ...       ...\n",
       "77097        07805297231                 0                 0             0           1                    0         1             0       1       0                    0                  0    0         2.0               1  50820500      1      1      1      1      0      1      1        0         1    2161.15    716.05   1708.86   3991.64       0.00    4334.79    5579.95  18492.44\n",
       "77252        07830807787                 1                 0             0           1                    0         1             0       0       1                    0                  0    0         2.0               1  51240420      1      1      1      1      0      1      1        0         1    2161.15    716.05   1708.86   3991.64       0.00    4334.79    5579.95  18492.44\n",
       "77261        07832472308                 0                 0             0           1                    0         1             0       0       1                    0                  0    1         2.0               1  51010100      1      1      1      1      0      1      1        0         1    2161.15    716.05   1708.86   3991.64       0.00    4334.79    5579.95  18492.44\n",
       "77266        07832869100                 0                 1             0           1                    0         1             0       1       0                    0                  0    0         4.0               1  52030130      1      1      1      1      0      1      1        0         1    2161.15    716.05   3417.72   7983.28       0.00    4334.79    5579.95  24192.94\n",
       "77380        07849856775                 1                 0             0           1                    0         1             0       0       1                    0                  0    0         3.0               1  52171215      1      1      1      1      0      1      1        0         1    2161.15    716.05   2563.29   5987.46       0.00    4334.79    5579.95  21342.69\n",
       "\n",
       "[7356 rows x 33 columns]"
      ]
     },
     "execution_count": 41,
     "metadata": {},
     "output_type": "execute_result"
    }
   ],
   "source": [
    "df_final"
   ]
  },
  {
   "attachments": {},
   "cell_type": "markdown",
   "id": "b8c495e8",
   "metadata": {},
   "source": [
    "##### Verificando custo das obras"
   ]
  },
  {
   "cell_type": "code",
   "execution_count": 42,
   "id": "4991573f",
   "metadata": {},
   "outputs": [
    {
     "data": {
      "text/html": [
       "<div>\n",
       "<style scoped>\n",
       "    .dataframe tbody tr th:only-of-type {\n",
       "        vertical-align: middle;\n",
       "    }\n",
       "\n",
       "    .dataframe tbody tr th {\n",
       "        vertical-align: top;\n",
       "    }\n",
       "\n",
       "    .dataframe thead th {\n",
       "        text-align: right;\n",
       "    }\n",
       "</style>\n",
       "<table border=\"1\" class=\"dataframe\">\n",
       "  <thead>\n",
       "    <tr style=\"text-align: right;\">\n",
       "      <th></th>\n",
       "      <th>vlr_total</th>\n",
       "    </tr>\n",
       "  </thead>\n",
       "  <tbody>\n",
       "    <tr>\n",
       "      <th>max</th>\n",
       "      <td>43353.41</td>\n",
       "    </tr>\n",
       "    <tr>\n",
       "      <th>min</th>\n",
       "      <td>12094.26</td>\n",
       "    </tr>\n",
       "  </tbody>\n",
       "</table>\n",
       "</div>"
      ],
      "text/plain": [
       "     vlr_total\n",
       "max   43353.41\n",
       "min   12094.26"
      ]
     },
     "execution_count": 42,
     "metadata": {},
     "output_type": "execute_result"
    }
   ],
   "source": [
    "df_final.agg({'vlr_total': ['max', 'min']})"
   ]
  },
  {
   "cell_type": "code",
   "execution_count": 43,
   "id": "14ad9af7",
   "metadata": {},
   "outputs": [
    {
     "data": {
      "text/html": [
       "<div>\n",
       "<style scoped>\n",
       "    .dataframe tbody tr th:only-of-type {\n",
       "        vertical-align: middle;\n",
       "    }\n",
       "\n",
       "    .dataframe tbody tr th {\n",
       "        vertical-align: top;\n",
       "    }\n",
       "\n",
       "    .dataframe thead th {\n",
       "        text-align: right;\n",
       "    }\n",
       "</style>\n",
       "<table border=\"1\" class=\"dataframe\">\n",
       "  <thead>\n",
       "    <tr style=\"text-align: right;\">\n",
       "      <th></th>\n",
       "      <th>d.cod_familiar_fam</th>\n",
       "      <th>sem_revestimento</th>\n",
       "      <th>com_revestimento</th>\n",
       "      <th>piso_cimento</th>\n",
       "      <th>piso_terra</th>\n",
       "      <th>piso_ceramica_afins</th>\n",
       "      <th>banheiro</th>\n",
       "      <th>sem_banheiro</th>\n",
       "      <th>pretos</th>\n",
       "      <th>pardos</th>\n",
       "      <th>familia_de_mulheres</th>\n",
       "      <th>primeira_infancia</th>\n",
       "      <th>pcd</th>\n",
       "      <th>qnt_comodos</th>\n",
       "      <th>qnt_dormitorios</th>\n",
       "      <th>cep</th>\n",
       "      <th>TP-04</th>\n",
       "      <th>TP-05</th>\n",
       "      <th>TP-06</th>\n",
       "      <th>TP-07</th>\n",
       "      <th>TC-09</th>\n",
       "      <th>TC-10</th>\n",
       "      <th>TC-12</th>\n",
       "      <th>mais_89</th>\n",
       "      <th>menos_89</th>\n",
       "      <th>vlr_TP-04</th>\n",
       "      <th>vlr_TP-05</th>\n",
       "      <th>vlr_TP-06</th>\n",
       "      <th>vlr_TP-07</th>\n",
       "      <th>vlr_TC-09</th>\n",
       "      <th>vlr_TC-10</th>\n",
       "      <th>vlr_TC-12</th>\n",
       "      <th>vlr_total</th>\n",
       "    </tr>\n",
       "  </thead>\n",
       "  <tbody>\n",
       "    <tr>\n",
       "      <th>5192</th>\n",
       "      <td>01346005923</td>\n",
       "      <td>0</td>\n",
       "      <td>0</td>\n",
       "      <td>0</td>\n",
       "      <td>1</td>\n",
       "      <td>0</td>\n",
       "      <td>0</td>\n",
       "      <td>1</td>\n",
       "      <td>0</td>\n",
       "      <td>1</td>\n",
       "      <td>1</td>\n",
       "      <td>0</td>\n",
       "      <td>0</td>\n",
       "      <td>6.0</td>\n",
       "      <td>2.0</td>\n",
       "      <td>50761130</td>\n",
       "      <td>1</td>\n",
       "      <td>1</td>\n",
       "      <td>1</td>\n",
       "      <td>1</td>\n",
       "      <td>1</td>\n",
       "      <td>0</td>\n",
       "      <td>1</td>\n",
       "      <td>0</td>\n",
       "      <td>1</td>\n",
       "      <td>2161.15</td>\n",
       "      <td>1432.1</td>\n",
       "      <td>5126.58</td>\n",
       "      <td>11974.92</td>\n",
       "      <td>12094.26</td>\n",
       "      <td>0.0</td>\n",
       "      <td>5579.95</td>\n",
       "      <td>38368.96</td>\n",
       "    </tr>\n",
       "  </tbody>\n",
       "</table>\n",
       "</div>"
      ],
      "text/plain": [
       "     d.cod_familiar_fam  sem_revestimento  com_revestimento  piso_cimento  piso_terra  piso_ceramica_afins  banheiro  sem_banheiro  pretos  pardos  familia_de_mulheres  primeira_infancia  pcd qnt_comodos qnt_dormitorios       cep  TP-04  TP-05  TP-06  TP-07  TC-09  TC-10  TC-12  mais_89  menos_89  vlr_TP-04 vlr_TP-05 vlr_TP-06 vlr_TP-07  vlr_TC-09  vlr_TC-10  vlr_TC-12 vlr_total\n",
       "5192        01346005923                 0                 0             0           1                    0         0             1       0       1                    1                  0    0         6.0             2.0  50761130      1      1      1      1      1      0      1        0         1    2161.15    1432.1   5126.58  11974.92   12094.26        0.0    5579.95  38368.96"
      ]
     },
     "execution_count": 43,
     "metadata": {},
     "output_type": "execute_result"
    }
   ],
   "source": [
    "df_final[df_final['vlr_total'] == 38368.96]"
   ]
  },
  {
   "cell_type": "code",
   "execution_count": null,
   "id": "082be957",
   "metadata": {},
   "outputs": [],
   "source": [
    "a = df_final.agg({'vlr_total': 'sum'})\n",
    "a.apply(lambda x: '%2f' % x)\n",
    "\n",
    "#129.339.451,28"
   ]
  },
  {
   "attachments": {},
   "cell_type": "markdown",
   "id": "9c578776",
   "metadata": {},
   "source": [
    "##### Número de domicílios selecionados"
   ]
  },
  {
   "cell_type": "code",
   "execution_count": 44,
   "id": "8aea6fcf",
   "metadata": {},
   "outputs": [
    {
     "data": {
      "text/plain": [
       "7356"
      ]
     },
     "execution_count": 44,
     "metadata": {},
     "output_type": "execute_result"
    }
   ],
   "source": [
    "len(df_final)"
   ]
  },
  {
   "cell_type": "code",
   "execution_count": 46,
   "id": "e704a987",
   "metadata": {},
   "outputs": [],
   "source": [
    "df_final.to_excel('DF_SELECAO_HABITACIONAIS_SEM_BAIRROS.xlsx', index=False)"
   ]
  },
  {
   "cell_type": "markdown",
   "id": "d0371d6b",
   "metadata": {},
   "source": [
    "# Trazendo Bairros e RPA"
   ]
  },
  {
   "attachments": {},
   "cell_type": "markdown",
   "id": "680bf50d",
   "metadata": {},
   "source": [
    "### Lendo arquivo que contém os Bairros ajustados de cada domicílios"
   ]
  },
  {
   "cell_type": "code",
   "execution_count": 47,
   "id": "17819c96",
   "metadata": {},
   "outputs": [],
   "source": [
    "df1 = pd.read_parquet('CAD_UNIC_MAI_DT_23_04_05_23.parquet')"
   ]
  },
  {
   "attachments": {},
   "cell_type": "markdown",
   "id": "6325abd8",
   "metadata": {},
   "source": [
    "### GroupBy para trazer o bairro de cada domicílio"
   ]
  },
  {
   "cell_type": "code",
   "execution_count": 48,
   "id": "e4d5c1e1",
   "metadata": {},
   "outputs": [],
   "source": [
    "df1_merge = df1.groupby('d.cod_familiar_fam').agg({'bairro': pd.Series.mode}).reset_index()"
   ]
  },
  {
   "attachments": {},
   "cell_type": "markdown",
   "id": "9c12a9c3",
   "metadata": {},
   "source": [
    "### Transformando colunas do código familiar em 'Int64'"
   ]
  },
  {
   "cell_type": "code",
   "execution_count": 53,
   "id": "a0143693",
   "metadata": {},
   "outputs": [],
   "source": [
    "df1_merge['d.cod_familiar_fam'] = df1_merge['d.cod_familiar_fam'].astype('Int64')\n",
    "df_final['d.cod_familiar_fam'] = df_final['d.cod_familiar_fam'].astype('Int64')"
   ]
  },
  {
   "attachments": {},
   "cell_type": "markdown",
   "id": "93cd87b0",
   "metadata": {},
   "source": [
    "### Merge (ou join) para trazer os respectivos bairros"
   ]
  },
  {
   "cell_type": "code",
   "execution_count": 54,
   "id": "e7873073",
   "metadata": {},
   "outputs": [],
   "source": [
    "newdf = df_final.merge(df1_merge, how='left', on='d.cod_familiar_fam')"
   ]
  },
  {
   "attachments": {},
   "cell_type": "markdown",
   "id": "f05ddaba",
   "metadata": {},
   "source": [
    "### Lendo arquivos que contém o bairro e RPA"
   ]
  },
  {
   "cell_type": "code",
   "execution_count": 56,
   "id": "d286d9ef",
   "metadata": {},
   "outputs": [],
   "source": [
    "df_bairros = pd.read_csv('BAIRRO.csv', sep=';')"
   ]
  },
  {
   "attachments": {},
   "cell_type": "markdown",
   "id": "95ffdbd9",
   "metadata": {},
   "source": [
    "##### Renomeando coluna de 'Bairro' para 'bairro'"
   ]
  },
  {
   "cell_type": "code",
   "execution_count": 57,
   "id": "5e2cba40",
   "metadata": {},
   "outputs": [],
   "source": [
    "df_bairros.rename(columns={'Bairro': 'bairro'}, inplace=True)"
   ]
  },
  {
   "attachments": {},
   "cell_type": "markdown",
   "id": "3e3505f1",
   "metadata": {},
   "source": [
    "### Tirando acentos e caractéres especiais"
   ]
  },
  {
   "cell_type": "code",
   "execution_count": 58,
   "id": "406be40e",
   "metadata": {},
   "outputs": [],
   "source": [
    "newdf['bairro'] = newdf['bairro'].apply(lambda x: unidecode.unidecode(x) if type(x) == str else np.nan)"
   ]
  },
  {
   "attachments": {},
   "cell_type": "markdown",
   "id": "76a557c6",
   "metadata": {},
   "source": [
    "### Merge (ou join) para trazer os respectivos RPAs"
   ]
  },
  {
   "cell_type": "code",
   "execution_count": 59,
   "id": "e57a495a",
   "metadata": {},
   "outputs": [],
   "source": [
    "newdf2 = newdf.merge(df_bairros, how='inner', on='bairro')"
   ]
  },
  {
   "attachments": {},
   "cell_type": "markdown",
   "id": "4a23ac88",
   "metadata": {},
   "source": [
    "### Salvando arquivo com bairros e RPA"
   ]
  },
  {
   "cell_type": "code",
   "execution_count": 61,
   "id": "970d8f97",
   "metadata": {},
   "outputs": [],
   "source": [
    "newdf2.to_excel('DF_SELECAO_HABITACIONAIS_COM_BAIRROS.xlsx', index=False)"
   ]
  }
 ],
 "metadata": {
  "kernelspec": {
   "display_name": "Python 3 (ipykernel)",
   "language": "python",
   "name": "python3"
  },
  "language_info": {
   "codemirror_mode": {
    "name": "ipython",
    "version": 3
   },
   "file_extension": ".py",
   "mimetype": "text/x-python",
   "name": "python",
   "nbconvert_exporter": "python",
   "pygments_lexer": "ipython3",
   "version": "3.10.11"
  }
 },
 "nbformat": 4,
 "nbformat_minor": 5
}
