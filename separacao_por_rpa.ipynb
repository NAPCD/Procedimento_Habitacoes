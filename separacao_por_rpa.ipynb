{
 "cells": [
  {
   "cell_type": "code",
   "execution_count": 2,
   "id": "8f070728",
   "metadata": {},
   "outputs": [],
   "source": [
    "import pandas as pd"
   ]
  },
  {
   "cell_type": "code",
   "execution_count": 3,
   "id": "2bce196a",
   "metadata": {},
   "outputs": [],
   "source": [
    "df = pd.read_csv('df_contendo_valor_total_da_obra.csv')"
   ]
  },
  {
   "cell_type": "code",
   "execution_count": 9,
   "id": "895ba174",
   "metadata": {},
   "outputs": [],
   "source": [
    "df1 = df[df.rpa==1]\n",
    "df2 = df[df.rpa==2]\n",
    "df3 = df[df.rpa==3]\n",
    "df4 = df[df.rpa==4]\n",
    "df5 = df[df.rpa==5]\n",
    "df6 = df[df.rpa==6]"
   ]
  },
  {
   "cell_type": "code",
   "execution_count": 25,
   "id": "e7c2b8da",
   "metadata": {},
   "outputs": [],
   "source": [
    "writer = pd.ExcelWriter(\"HABITACOES_POR_RPA.xlsx\", engine=\"xlsxwriter\")"
   ]
  },
  {
   "cell_type": "code",
   "execution_count": 26,
   "id": "58c25181",
   "metadata": {},
   "outputs": [],
   "source": [
    "df1.to_excel(writer, sheet_name=\"RPA 1\", index = False)\n",
    "df2.to_excel(writer, sheet_name=\"RPA 2\", index = False)\n",
    "df3.to_excel(writer, sheet_name=\"RPA 3\", index = False)\n",
    "df4.to_excel(writer, sheet_name=\"RPA 4\", index = False)\n",
    "df5.to_excel(writer, sheet_name=\"RPA 5\", index = False)\n",
    "df6.to_excel(writer, sheet_name=\"RPA 6\", index = False)"
   ]
  },
  {
   "cell_type": "code",
   "execution_count": 27,
   "id": "e1f41bbf",
   "metadata": {},
   "outputs": [],
   "source": [
    "writer.close()"
   ]
  },
  {
   "cell_type": "code",
   "execution_count": 35,
   "id": "f49d3c56",
   "metadata": {},
   "outputs": [],
   "source": [
    "df7 = df1.copy()"
   ]
  },
  {
   "cell_type": "code",
   "execution_count": 36,
   "id": "04c96b19",
   "metadata": {},
   "outputs": [],
   "source": [
    "df7 = df7[df7.index == 0]"
   ]
  },
  {
   "cell_type": "code",
   "execution_count": 37,
   "id": "9b826e61",
   "metadata": {},
   "outputs": [],
   "source": [
    "df7 = df7.T.reset_index()"
   ]
  },
  {
   "cell_type": "code",
   "execution_count": 39,
   "id": "776e09d3",
   "metadata": {},
   "outputs": [],
   "source": [
    "df7.to_excel('DICIONARIO_HABITACIONAIS.xlsx', index = False)"
   ]
  },
  {
   "cell_type": "code",
   "execution_count": 38,
   "id": "ef385df0",
   "metadata": {},
   "outputs": [
    {
     "data": {
      "text/html": [
       "<div>\n",
       "<style scoped>\n",
       "    .dataframe tbody tr th:only-of-type {\n",
       "        vertical-align: middle;\n",
       "    }\n",
       "\n",
       "    .dataframe tbody tr th {\n",
       "        vertical-align: top;\n",
       "    }\n",
       "\n",
       "    .dataframe thead th {\n",
       "        text-align: right;\n",
       "    }\n",
       "</style>\n",
       "<table border=\"1\" class=\"dataframe\">\n",
       "  <thead>\n",
       "    <tr style=\"text-align: right;\">\n",
       "      <th></th>\n",
       "      <th>index</th>\n",
       "      <th>0</th>\n",
       "    </tr>\n",
       "  </thead>\n",
       "  <tbody>\n",
       "    <tr>\n",
       "      <th>0</th>\n",
       "      <td>d.cod_familiar_fam</td>\n",
       "      <td>1338785702</td>\n",
       "    </tr>\n",
       "    <tr>\n",
       "      <th>1</th>\n",
       "      <td>membros_domicilios</td>\n",
       "      <td>1</td>\n",
       "    </tr>\n",
       "    <tr>\n",
       "      <th>2</th>\n",
       "      <td>bairro</td>\n",
       "      <td>SANTO AMARO</td>\n",
       "    </tr>\n",
       "    <tr>\n",
       "      <th>3</th>\n",
       "      <td>rpa</td>\n",
       "      <td>1</td>\n",
       "    </tr>\n",
       "    <tr>\n",
       "      <th>4</th>\n",
       "      <td>TP-04</td>\n",
       "      <td>0</td>\n",
       "    </tr>\n",
       "    <tr>\n",
       "      <th>5</th>\n",
       "      <td>TP-05</td>\n",
       "      <td>0</td>\n",
       "    </tr>\n",
       "    <tr>\n",
       "      <th>6</th>\n",
       "      <td>TP-06</td>\n",
       "      <td>1</td>\n",
       "    </tr>\n",
       "    <tr>\n",
       "      <th>7</th>\n",
       "      <td>TP-07</td>\n",
       "      <td>0</td>\n",
       "    </tr>\n",
       "    <tr>\n",
       "      <th>8</th>\n",
       "      <td>TC-09</td>\n",
       "      <td>1</td>\n",
       "    </tr>\n",
       "    <tr>\n",
       "      <th>9</th>\n",
       "      <td>TC-10</td>\n",
       "      <td>0</td>\n",
       "    </tr>\n",
       "    <tr>\n",
       "      <th>10</th>\n",
       "      <td>TC-12</td>\n",
       "      <td>0</td>\n",
       "    </tr>\n",
       "    <tr>\n",
       "      <th>11</th>\n",
       "      <td>vlr_TP_04</td>\n",
       "      <td>0.0</td>\n",
       "    </tr>\n",
       "    <tr>\n",
       "      <th>12</th>\n",
       "      <td>vlr_TP_05</td>\n",
       "      <td>NaN</td>\n",
       "    </tr>\n",
       "    <tr>\n",
       "      <th>13</th>\n",
       "      <td>vlr_TP_06</td>\n",
       "      <td>854.43</td>\n",
       "    </tr>\n",
       "    <tr>\n",
       "      <th>14</th>\n",
       "      <td>vlr_TP_07</td>\n",
       "      <td>NaN</td>\n",
       "    </tr>\n",
       "    <tr>\n",
       "      <th>15</th>\n",
       "      <td>vlr_TC_09</td>\n",
       "      <td>12094.26</td>\n",
       "    </tr>\n",
       "    <tr>\n",
       "      <th>16</th>\n",
       "      <td>vlr_TC_10</td>\n",
       "      <td>0.0</td>\n",
       "    </tr>\n",
       "    <tr>\n",
       "      <th>17</th>\n",
       "      <td>vlr_TC_12</td>\n",
       "      <td>0.0</td>\n",
       "    </tr>\n",
       "    <tr>\n",
       "      <th>18</th>\n",
       "      <td>vlr_final_domicilio</td>\n",
       "      <td>12948.69</td>\n",
       "    </tr>\n",
       "  </tbody>\n",
       "</table>\n",
       "</div>"
      ],
      "text/plain": [
       "                  index            0\n",
       "0    d.cod_familiar_fam   1338785702\n",
       "1    membros_domicilios            1\n",
       "2                bairro  SANTO AMARO\n",
       "3                   rpa            1\n",
       "4                 TP-04            0\n",
       "5                 TP-05            0\n",
       "6                 TP-06            1\n",
       "7                 TP-07            0\n",
       "8                 TC-09            1\n",
       "9                 TC-10            0\n",
       "10                TC-12            0\n",
       "11            vlr_TP_04          0.0\n",
       "12            vlr_TP_05          NaN\n",
       "13            vlr_TP_06       854.43\n",
       "14            vlr_TP_07          NaN\n",
       "15            vlr_TC_09     12094.26\n",
       "16            vlr_TC_10          0.0\n",
       "17            vlr_TC_12          0.0\n",
       "18  vlr_final_domicilio     12948.69"
      ]
     },
     "execution_count": 38,
     "metadata": {},
     "output_type": "execute_result"
    }
   ],
   "source": [
    "df7"
   ]
  },
  {
   "cell_type": "code",
   "execution_count": null,
   "id": "09b6d9ce",
   "metadata": {},
   "outputs": [],
   "source": []
  }
 ],
 "metadata": {
  "kernelspec": {
   "display_name": "Python 3 (ipykernel)",
   "language": "python",
   "name": "python3"
  },
  "language_info": {
   "codemirror_mode": {
    "name": "ipython",
    "version": 3
   },
   "file_extension": ".py",
   "mimetype": "text/x-python",
   "name": "python",
   "nbconvert_exporter": "python",
   "pygments_lexer": "ipython3",
   "version": "3.10.11"
  }
 },
 "nbformat": 4,
 "nbformat_minor": 5
}
